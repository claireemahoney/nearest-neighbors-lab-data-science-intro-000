{
 "cells": [
  {
   "cell_type": "markdown",
   "metadata": {},
   "source": [
    "# Nearest Neighbors Lab"
   ]
  },
  {
   "cell_type": "markdown",
   "metadata": {},
   "source": [
    "### Introduction\n",
    "\n",
    "In this lab, you apply nearest neighbors technique to help a taxi company predict the length of their rides.  Imagine that we are hired to consult for LiftOff, a limo and taxi service that is just opening up in NYC.  Liftoff wants it's taxi drivers to target longer rides, as the longer the ride the more money it makes.  LiftOff has the following theory:\n",
    "\n",
    "* the pickup location of a taxi ride can help predict the length of the ride.  \n",
    "\n",
    "\n",
    "\n",
    "LiftOff asks us to do some analysis to write a function that will allow it to **predict the length of a taxi ride for any given location **.\n",
    "\n",
    "Our technique will be the following:\n",
    "  * **Collect** Obtain the data containing all of the taxi information, and only select the attributes of taxi trips that we need \n",
    "  * ** Explore ** Examine the attributes of our data, and plot some of our data on a map\n",
    "  * ** Train ** Write our nearest neighbors formula, and change the number of nearby trips to predict the length of a new trip\n",
    "  * ** Predict ** Use our function to predict trip lengths of new locations"
   ]
  },
  {
   "cell_type": "markdown",
   "metadata": {},
   "source": [
    "### Collect and Explore the data"
   ]
  },
  {
   "cell_type": "markdown",
   "metadata": {},
   "source": [
    "#### Collect the Data"
   ]
  },
  {
   "cell_type": "markdown",
   "metadata": {},
   "source": [
    "Luckily for us, [NYC Open Data](https://opendata.cityofnewyork.us/) collects information about NYC taxi trips and provides this data on [its website](https://data.cityofnewyork.us/Transportation/2014-Yellow-Taxi-Trip-Data/gn7m-em8n)."
   ]
  },
  {
   "cell_type": "markdown",
   "metadata": {},
   "source": [
    "![](./nyc-taxi.png)"
   ]
  },
  {
   "cell_type": "markdown",
   "metadata": {},
   "source": [
    "For your reading pleasure, the data has already been downloaded into the [trips.json](https://github.com/learn-co-curriculum/nearest-neighbors-lab/blob/master/trips.json) file in this lab which you can find here.  We'll use Python's `json` library to take the data from the `trips.json` file and store it as a variable in our notebook."
   ]
  },
  {
   "cell_type": "code",
   "execution_count": 1,
   "metadata": {},
   "outputs": [],
   "source": [
    "import json\n",
    "# First, read the file\n",
    "trips_file = open('trips.json')\n",
    "# Then, convert contents to list of dictionaries \n",
    "trips = json.load(trips_file)"
   ]
  },
  {
   "cell_type": "markdown",
   "metadata": {},
   "source": [
    "> Press shift + enter"
   ]
  },
  {
   "cell_type": "markdown",
   "metadata": {},
   "source": [
    "#### Explore the data"
   ]
  },
  {
   "cell_type": "markdown",
   "metadata": {},
   "source": [
    "The next step is to explore the data.  First, let's see how many trips we have."
   ]
  },
  {
   "cell_type": "code",
   "execution_count": 2,
   "metadata": {},
   "outputs": [
    {
     "data": {
      "text/plain": [
       "1000"
      ]
     },
     "execution_count": 2,
     "metadata": {},
     "output_type": "execute_result"
    }
   ],
   "source": [
    "len(trips)"
   ]
  },
  {
   "cell_type": "markdown",
   "metadata": {},
   "source": [
    "Not bad at all.  Now let's see what each individual trip looks like.  Each trip is a dictionary, so we can see the attributes of each trip with the `keys` function."
   ]
  },
  {
   "cell_type": "code",
   "execution_count": 2,
   "metadata": {
    "scrolled": true
   },
   "outputs": [
    {
     "data": {
      "text/plain": [
       "dict_keys(['dropoff_datetime', 'dropoff_latitude', 'dropoff_longitude', 'fare_amount', 'imp_surcharge', 'mta_tax', 'passenger_count', 'payment_type', 'pickup_datetime', 'pickup_latitude', 'pickup_longitude', 'rate_code', 'tip_amount', 'tolls_amount', 'total_amount', 'trip_distance', 'vendor_id'])"
      ]
     },
     "execution_count": 2,
     "metadata": {},
     "output_type": "execute_result"
    }
   ],
   "source": [
    "trips[0].keys()\n"
   ]
  },
  {
   "cell_type": "markdown",
   "metadata": {},
   "source": [
    "#### Limit our data"
   ]
  },
  {
   "cell_type": "markdown",
   "metadata": {},
   "source": [
    "Ok, now that we have explored some of our data, let's begin to think through what data is relevant for our task."
   ]
  },
  {
   "cell_type": "markdown",
   "metadata": {
    "collapsed": true
   },
   "source": [
    "Remember that our task is to **use the trip location to predict the length of a trip**.  So let's select the `pickup_latitude`, `pickup_longitude`, and `trip_distance` from each trip.  That will give us the trip location and related `trip_distance` for each trip.  Then based on these **actual** trip distances we can use nearest neighbors to predict an **expected** trip distance for a trip, provided an **actual** location."
   ]
  },
  {
   "cell_type": "markdown",
   "metadata": {},
   "source": [
    "** Add in about trip distance ** "
   ]
  },
  {
   "cell_type": "markdown",
   "metadata": {},
   "source": [
    "Write a function called `parse_trips(trips)` that returns a list of the trips with only the following attributes: \n",
    "* `trip_distance`\n",
    "* `pickup_latitude`\n",
    "* `pickup_longitude`"
   ]
  },
  {
   "cell_type": "code",
   "execution_count": 112,
   "metadata": {},
   "outputs": [],
   "source": [
    "def parse_trips(trips):\n",
    "    def combined(trips):\n",
    "        distance = trips['trip_distance']\n",
    "        latitude = trips['pickup_latitude']\n",
    "        longitude = trips['pickup_longitude']\n",
    "        return {'trip_distance': float(distance), 'pickup_latitude': float(latitude), 'pickup_longitude': float(longitude)}\n",
    "    combined = list(map(combined, trips))\n",
    "    return combined\n",
    "    pass"
   ]
  },
  {
   "cell_type": "code",
   "execution_count": 128,
   "metadata": {},
   "outputs": [
    {
     "data": {
      "text/plain": [
       "1000"
      ]
     },
     "execution_count": 128,
     "metadata": {},
     "output_type": "execute_result"
    }
   ],
   "source": [
    "parsed_trips = parse_trips(trips)\n",
    "parsed_trips and parsed_trips[0]\n",
    "len(parsed_trips)\n",
    "\n",
    "# {'pickup_latitude': '40.64499',\n",
    "#  'pickup_longitude': '-73.78115',\n",
    "#  'trip_distance': '18.38'}"
   ]
  },
  {
   "cell_type": "markdown",
   "metadata": {},
   "source": [
    "Now, there's just one change to make.  If you look at one of the trips, all of the values are strings.  Let's change them to be floats."
   ]
  },
  {
   "cell_type": "code",
   "execution_count": 114,
   "metadata": {},
   "outputs": [],
   "source": [
    "def float_values(trips):    \n",
    "        \n",
    "    return trips\n",
    "        \n",
    "    pass"
   ]
  },
  {
   "cell_type": "code",
   "execution_count": 115,
   "metadata": {},
   "outputs": [],
   "source": [
    "cleaned_trips = float_values(parsed_trips)"
   ]
  },
  {
   "cell_type": "code",
   "execution_count": 129,
   "metadata": {},
   "outputs": [
    {
     "data": {
      "text/plain": [
       "1000"
      ]
     },
     "execution_count": 129,
     "metadata": {},
     "output_type": "execute_result"
    }
   ],
   "source": [
    "cleaned_trips[0]\n",
    "len(cleaned_trips)\n",
    "# {'pickup_latitude': 40.64499,\n",
    "#  'pickup_longitude': -73.78115,\n",
    "#  'trip_distance': 18.38}\n"
   ]
  },
  {
   "cell_type": "markdown",
   "metadata": {},
   "source": [
    "### Exploring the Data"
   ]
  },
  {
   "cell_type": "markdown",
   "metadata": {},
   "source": [
    "Now that we have paired down our data, let's get a sense of our trip data.  We can use the `folium` Python library to plot a map of Manhattan, and our data.  First we must import `folium`, and then use the `Map` function to pass through a `location`, and `zoom_start`.  If a map isn't showing up below, copy and paste the command `pip install -r requirements.txt` into your terminal to install `folium` then try again."
   ]
  },
  {
   "cell_type": "code",
   "execution_count": 10,
   "metadata": {},
   "outputs": [],
   "source": [
    "import folium\n",
    "manhattan_map = folium.Map(location=[40.7589, -73.9851], zoom_start=11)"
   ]
  },
  {
   "cell_type": "code",
   "execution_count": 11,
   "metadata": {
    "scrolled": true
   },
   "outputs": [
    {
     "data": {
      "text/html": [
       "<div style=\"width:100%;\"><div style=\"position:relative;width:100%;height:0;padding-bottom:60%;\"><iframe src=\"data:text/html;charset=utf-8;base64,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\" style=\"position:absolute;width:100%;height:100%;left:0;top:0;border:none !important;\" allowfullscreen webkitallowfullscreen mozallowfullscreen></iframe></div></div>"
      ],
      "text/plain": [
       "<folium.folium.Map at 0x7f4353fff9e8>"
      ]
     },
     "execution_count": 11,
     "metadata": {},
     "output_type": "execute_result"
    }
   ],
   "source": [
    "manhattan_map"
   ]
  },
  {
   "cell_type": "markdown",
   "metadata": {},
   "source": [
    "Ok, now let's see how we could add a dot to mark a specific location.  We'll start with Times Square."
   ]
  },
  {
   "cell_type": "code",
   "execution_count": 12,
   "metadata": {},
   "outputs": [
    {
     "data": {
      "text/plain": [
       "<folium.vector_layers.CircleMarker at 0x7f433a657e80>"
      ]
     },
     "execution_count": 12,
     "metadata": {},
     "output_type": "execute_result"
    }
   ],
   "source": [
    "marker = folium.CircleMarker(location = [40.7589, -73.9851], radius=10)\n",
    "marker.add_to(manhattan_map)\n"
   ]
  },
  {
   "cell_type": "markdown",
   "metadata": {},
   "source": [
    "Above, we first create a marker.  Then we add that circle marker to the `manhattan_map` we created earlier. "
   ]
  },
  {
   "cell_type": "code",
   "execution_count": 13,
   "metadata": {
    "scrolled": false
   },
   "outputs": [
    {
     "data": {
      "text/html": [
       "<div style=\"width:100%;\"><div style=\"position:relative;width:100%;height:0;padding-bottom:60%;\"><iframe src=\"data:text/html;charset=utf-8;base64,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\" style=\"position:absolute;width:100%;height:100%;left:0;top:0;border:none !important;\" allowfullscreen webkitallowfullscreen mozallowfullscreen></iframe></div></div>"
      ],
      "text/plain": [
       "<folium.folium.Map at 0x7f4353fff9e8>"
      ]
     },
     "execution_count": 13,
     "metadata": {},
     "output_type": "execute_result"
    }
   ],
   "source": [
    "manhattan_map"
   ]
  },
  {
   "cell_type": "markdown",
   "metadata": {},
   "source": [
    "Do you see that blue dot near Time's Square?  That is our marker.  \n",
    "\n",
    "So now that we can plot one marker on a map, we should have a sense of how we can plot many markers on a map to display our taxi ride data.  We simply plot a map, and then we add a marker for each location of a taxi trip.\n",
    "\n",
    "Now let's write some functions to allow us to plot maps and add markers a little more easily.  "
   ]
  },
  {
   "cell_type": "markdown",
   "metadata": {},
   "source": [
    "#### Writing some map plotting functions"
   ]
  },
  {
   "cell_type": "markdown",
   "metadata": {},
   "source": [
    "As a first step towards this, note that the functions to create both a marker and map each take in a location as two element list, representing the latitude and longitude values.  Take another look:\n",
    "\n",
    "```python\n",
    "marker = folium.CircleMarker(location = [40.7589, -73.9851])\n",
    "manhattan_map = folium.Map(location=[40.7589, -73.9851])\n",
    "```\n",
    "\n",
    "So let's write a function called to create this two element list from a trip.  Write a function called `location` that  takes in a trip as an argument and returns a list where the first element is the latitude and the second is the longitude.  Remember that a location looks like the following:"
   ]
  },
  {
   "cell_type": "code",
   "execution_count": 117,
   "metadata": {},
   "outputs": [
    {
     "data": {
      "text/plain": [
       "{'pickup_latitude': 40.64499,\n",
       " 'pickup_longitude': -73.78115,\n",
       " 'trip_distance': 18.38}"
      ]
     },
     "execution_count": 117,
     "metadata": {},
     "output_type": "execute_result"
    }
   ],
   "source": [
    "first_trip = {'pickup_latitude': 40.64499, 'pickup_longitude': -73.78115,  'trip_distance': 18.38}\n",
    "first_trip"
   ]
  },
  {
   "cell_type": "code",
   "execution_count": 118,
   "metadata": {},
   "outputs": [],
   "source": [
    "def location(trip):\n",
    "    coordinates = [trip['pickup_latitude'], trip['pickup_longitude']]\n",
    "    return coordinates\n",
    "    pass"
   ]
  },
  {
   "cell_type": "code",
   "execution_count": 121,
   "metadata": {},
   "outputs": [
    {
     "data": {
      "text/plain": [
       "[40.64499, -73.78115]"
      ]
     },
     "execution_count": 121,
     "metadata": {},
     "output_type": "execute_result"
    }
   ],
   "source": [
    "first_location = location(first_trip) # [40.64499, -73.78115]\n",
    "first_location # [40.64499, -73.78115]"
   ]
  },
  {
   "cell_type": "markdown",
   "metadata": {},
   "source": [
    "Ok, now that we can turn a trip into a location, let's turn a location into a marker.  Write a function called `to_marker` that takes in a location (in the form of a list) as an argument, and returns a folium `circleMarker` for that location.  The radius of the marker should always equal 6."
   ]
  },
  {
   "cell_type": "code",
   "execution_count": 122,
   "metadata": {},
   "outputs": [],
   "source": [
    "def to_marker(location):\n",
    "    \n",
    "    marker = folium.CircleMarker(location = location, radius=6)\n",
    "    return marker\n",
    "    pass"
   ]
  },
  {
   "cell_type": "code",
   "execution_count": 123,
   "metadata": {},
   "outputs": [
    {
     "data": {
      "text/plain": [
       "6"
      ]
     },
     "execution_count": 123,
     "metadata": {},
     "output_type": "execute_result"
    }
   ],
   "source": [
    "import json\n",
    "times_square_marker = to_marker([40.7589, -73.9851])\n",
    "\n",
    "times_square_marker and times_square_marker.location # [40.7589, -73.9851]\n",
    "times_square_marker and json.loads(times_square_marker.options)['radius'] # 6"
   ]
  },
  {
   "cell_type": "markdown",
   "metadata": {},
   "source": [
    "Ok, now that we know how to produce a single marker, let's write a function to produce lots.  We can write a function called `markers_from_trips` that takes in a list of trips, and returns a marker object for each trip.  "
   ]
  },
  {
   "cell_type": "code",
   "execution_count": 135,
   "metadata": {},
   "outputs": [],
   "source": [
    "def markers_from_trips(trips):\n",
    "    markers = []\n",
    "    for i in list(range(0, len(trips))):\n",
    "        new_location = location(trips[i])\n",
    "        marker = to_marker(new_location)\n",
    "        markers.append(marker)\n",
    "    return markers\n",
    "    pass\n"
   ]
  },
  {
   "cell_type": "code",
   "execution_count": 136,
   "metadata": {},
   "outputs": [
    {
     "data": {
      "text/plain": [
       "[<folium.vector_layers.CircleMarker at 0x7f433a608da0>,\n",
       " <folium.vector_layers.CircleMarker at 0x7f433a601be0>,\n",
       " <folium.vector_layers.CircleMarker at 0x7f433a6010f0>,\n",
       " <folium.vector_layers.CircleMarker at 0x7f433a601320>,\n",
       " <folium.vector_layers.CircleMarker at 0x7f433a601978>,\n",
       " <folium.vector_layers.CircleMarker at 0x7f433a522160>,\n",
       " <folium.vector_layers.CircleMarker at 0x7f433a522278>,\n",
       " <folium.vector_layers.CircleMarker at 0x7f433a522320>,\n",
       " <folium.vector_layers.CircleMarker at 0x7f433a5223c8>,\n",
       " <folium.vector_layers.CircleMarker at 0x7f433a5224a8>,\n",
       " <folium.vector_layers.CircleMarker at 0x7f433a522128>,\n",
       " <folium.vector_layers.CircleMarker at 0x7f433a522400>,\n",
       " <folium.vector_layers.CircleMarker at 0x7f433a522518>,\n",
       " <folium.vector_layers.CircleMarker at 0x7f433a522710>,\n",
       " <folium.vector_layers.CircleMarker at 0x7f433a5227b8>,\n",
       " <folium.vector_layers.CircleMarker at 0x7f433a522860>,\n",
       " <folium.vector_layers.CircleMarker at 0x7f433a522908>,\n",
       " <folium.vector_layers.CircleMarker at 0x7f433a5229b0>,\n",
       " <folium.vector_layers.CircleMarker at 0x7f433a6085f8>,\n",
       " <folium.vector_layers.CircleMarker at 0x7f433a601278>,\n",
       " <folium.vector_layers.CircleMarker at 0x7f433a601710>,\n",
       " <folium.vector_layers.CircleMarker at 0x7f433a601668>,\n",
       " <folium.vector_layers.CircleMarker at 0x7f433a601b00>,\n",
       " <folium.vector_layers.CircleMarker at 0x7f433a601f98>,\n",
       " <folium.vector_layers.CircleMarker at 0x7f433a685828>,\n",
       " <folium.vector_layers.CircleMarker at 0x7f433a685160>,\n",
       " <folium.vector_layers.CircleMarker at 0x7f433a685b38>,\n",
       " <folium.vector_layers.CircleMarker at 0x7f433a5db550>,\n",
       " <folium.vector_layers.CircleMarker at 0x7f433a5db7b8>,\n",
       " <folium.vector_layers.CircleMarker at 0x7f433a5db438>,\n",
       " <folium.vector_layers.CircleMarker at 0x7f433a67cc88>,\n",
       " <folium.vector_layers.CircleMarker at 0x7f433a5d0278>,\n",
       " <folium.vector_layers.CircleMarker at 0x7f433a5d0b00>,\n",
       " <folium.vector_layers.CircleMarker at 0x7f433a5dbeb8>,\n",
       " <folium.vector_layers.CircleMarker at 0x7f433a5228d0>,\n",
       " <folium.vector_layers.CircleMarker at 0x7f433a522780>,\n",
       " <folium.vector_layers.CircleMarker at 0x7f433a522668>,\n",
       " <folium.vector_layers.CircleMarker at 0x7f433a522550>,\n",
       " <folium.vector_layers.CircleMarker at 0x7f433a5224e0>,\n",
       " <folium.vector_layers.CircleMarker at 0x7f433a522390>,\n",
       " <folium.vector_layers.CircleMarker at 0x7f433a5d01d0>,\n",
       " <folium.vector_layers.CircleMarker at 0x7f433a5db2e8>,\n",
       " <folium.vector_layers.CircleMarker at 0x7f433a5db3c8>,\n",
       " <folium.vector_layers.CircleMarker at 0x7f433a5db0b8>,\n",
       " <folium.vector_layers.CircleMarker at 0x7f433a5db898>,\n",
       " <folium.vector_layers.CircleMarker at 0x7f433a685048>,\n",
       " <folium.vector_layers.CircleMarker at 0x7f433a685a90>,\n",
       " <folium.vector_layers.CircleMarker at 0x7f433a601c18>,\n",
       " <folium.vector_layers.CircleMarker at 0x7f433a6082e8>,\n",
       " <folium.vector_layers.CircleMarker at 0x7f433a601630>,\n",
       " <folium.vector_layers.CircleMarker at 0x7f433a601f60>,\n",
       " <folium.vector_layers.CircleMarker at 0x7f433a522588>,\n",
       " <folium.vector_layers.CircleMarker at 0x7f433a522748>,\n",
       " <folium.vector_layers.CircleMarker at 0x7f433a522828>,\n",
       " <folium.vector_layers.CircleMarker at 0x7f433a522438>,\n",
       " <folium.vector_layers.CircleMarker at 0x7f433a522ac8>,\n",
       " <folium.vector_layers.CircleMarker at 0x7f433a522a90>,\n",
       " <folium.vector_layers.CircleMarker at 0x7f433a522b38>,\n",
       " <folium.vector_layers.CircleMarker at 0x7f433a5226a0>,\n",
       " <folium.vector_layers.CircleMarker at 0x7f433a522c18>,\n",
       " <folium.vector_layers.CircleMarker at 0x7f433a522cc0>,\n",
       " <folium.vector_layers.CircleMarker at 0x7f433a522ba8>,\n",
       " <folium.vector_layers.CircleMarker at 0x7f433a522c50>,\n",
       " <folium.vector_layers.CircleMarker at 0x7f433a601f28>,\n",
       " <folium.vector_layers.CircleMarker at 0x7f433a6015f8>,\n",
       " <folium.vector_layers.CircleMarker at 0x7f433a6852e8>,\n",
       " <folium.vector_layers.CircleMarker at 0x7f433a5d0898>,\n",
       " <folium.vector_layers.CircleMarker at 0x7f433a5db320>,\n",
       " <folium.vector_layers.CircleMarker at 0x7f433a5db748>,\n",
       " <folium.vector_layers.CircleMarker at 0x7f433a5db978>,\n",
       " <folium.vector_layers.CircleMarker at 0x7f433a522b70>,\n",
       " <folium.vector_layers.CircleMarker at 0x7f433a5222b0>,\n",
       " <folium.vector_layers.CircleMarker at 0x7f433a522b00>,\n",
       " <folium.vector_layers.CircleMarker at 0x7f433a5226d8>,\n",
       " <folium.vector_layers.CircleMarker at 0x7f433a5221d0>,\n",
       " <folium.vector_layers.CircleMarker at 0x7f433a5222e8>,\n",
       " <folium.vector_layers.CircleMarker at 0x7f433a522240>,\n",
       " <folium.vector_layers.CircleMarker at 0x7f433a522198>,\n",
       " <folium.vector_layers.CircleMarker at 0x7f433a522dd8>,\n",
       " <folium.vector_layers.CircleMarker at 0x7f433a522f98>,\n",
       " <folium.vector_layers.CircleMarker at 0x7f433a522fd0>,\n",
       " <folium.vector_layers.CircleMarker at 0x7f433a522f28>,\n",
       " <folium.vector_layers.CircleMarker at 0x7f433a539128>,\n",
       " <folium.vector_layers.CircleMarker at 0x7f433a539208>,\n",
       " <folium.vector_layers.CircleMarker at 0x7f433a5392b0>,\n",
       " <folium.vector_layers.CircleMarker at 0x7f433a685860>,\n",
       " <folium.vector_layers.CircleMarker at 0x7f433a6081d0>,\n",
       " <folium.vector_layers.CircleMarker at 0x7f433a601c88>,\n",
       " <folium.vector_layers.CircleMarker at 0x7f433a5db6d8>,\n",
       " <folium.vector_layers.CircleMarker at 0x7f433a522e10>,\n",
       " <folium.vector_layers.CircleMarker at 0x7f433a522f60>,\n",
       " <folium.vector_layers.CircleMarker at 0x7f433a522e80>,\n",
       " <folium.vector_layers.CircleMarker at 0x7f433a522978>,\n",
       " <folium.vector_layers.CircleMarker at 0x7f433a522358>,\n",
       " <folium.vector_layers.CircleMarker at 0x7f433a522d30>,\n",
       " <folium.vector_layers.CircleMarker at 0x7f433a522940>,\n",
       " <folium.vector_layers.CircleMarker at 0x7f433a522e48>,\n",
       " <folium.vector_layers.CircleMarker at 0x7f433a522048>,\n",
       " <folium.vector_layers.CircleMarker at 0x7f433a5390b8>,\n",
       " <folium.vector_layers.CircleMarker at 0x7f433a5393c8>,\n",
       " <folium.vector_layers.CircleMarker at 0x7f433a539400>,\n",
       " <folium.vector_layers.CircleMarker at 0x7f433a5392e8>,\n",
       " <folium.vector_layers.CircleMarker at 0x7f433a5394e0>,\n",
       " <folium.vector_layers.CircleMarker at 0x7f433a539588>,\n",
       " <folium.vector_layers.CircleMarker at 0x7f433a539630>,\n",
       " <folium.vector_layers.CircleMarker at 0x7f433a5396d8>,\n",
       " <folium.vector_layers.CircleMarker at 0x7f433a539780>,\n",
       " <folium.vector_layers.CircleMarker at 0x7f433a522ef0>,\n",
       " <folium.vector_layers.CircleMarker at 0x7f433a522be0>,\n",
       " <folium.vector_layers.CircleMarker at 0x7f433a601940>,\n",
       " <folium.vector_layers.CircleMarker at 0x7f433a522208>,\n",
       " <folium.vector_layers.CircleMarker at 0x7f433a685ef0>,\n",
       " <folium.vector_layers.CircleMarker at 0x7f433a5db240>,\n",
       " <folium.vector_layers.CircleMarker at 0x7f433a5db4e0>,\n",
       " <folium.vector_layers.CircleMarker at 0x7f433a522eb8>,\n",
       " <folium.vector_layers.CircleMarker at 0x7f433a5396a0>,\n",
       " <folium.vector_layers.CircleMarker at 0x7f433a539550>,\n",
       " <folium.vector_layers.CircleMarker at 0x7f433a539048>,\n",
       " <folium.vector_layers.CircleMarker at 0x7f433a539240>,\n",
       " <folium.vector_layers.CircleMarker at 0x7f433a5391d0>,\n",
       " <folium.vector_layers.CircleMarker at 0x7f433a539828>,\n",
       " <folium.vector_layers.CircleMarker at 0x7f433a539710>,\n",
       " <folium.vector_layers.CircleMarker at 0x7f433a539940>,\n",
       " <folium.vector_layers.CircleMarker at 0x7f433a539978>,\n",
       " <folium.vector_layers.CircleMarker at 0x7f433a539a20>,\n",
       " <folium.vector_layers.CircleMarker at 0x7f433a539ac8>,\n",
       " <folium.vector_layers.CircleMarker at 0x7f433a539b70>,\n",
       " <folium.vector_layers.CircleMarker at 0x7f433a539c18>,\n",
       " <folium.vector_layers.CircleMarker at 0x7f433a539cc0>,\n",
       " <folium.vector_layers.CircleMarker at 0x7f433a5db828>,\n",
       " <folium.vector_layers.CircleMarker at 0x7f433a5229e8>,\n",
       " <folium.vector_layers.CircleMarker at 0x7f433a522d68>,\n",
       " <folium.vector_layers.CircleMarker at 0x7f433a5225c0>,\n",
       " <folium.vector_layers.CircleMarker at 0x7f433a5220f0>,\n",
       " <folium.vector_layers.CircleMarker at 0x7f433a539b00>,\n",
       " <folium.vector_layers.CircleMarker at 0x7f433a539b38>,\n",
       " <folium.vector_layers.CircleMarker at 0x7f433a5399e8>,\n",
       " <folium.vector_layers.CircleMarker at 0x7f433a5390f0>,\n",
       " <folium.vector_layers.CircleMarker at 0x7f433a539860>,\n",
       " <folium.vector_layers.CircleMarker at 0x7f433a539390>,\n",
       " <folium.vector_layers.CircleMarker at 0x7f433a539198>,\n",
       " <folium.vector_layers.CircleMarker at 0x7f433a539438>,\n",
       " <folium.vector_layers.CircleMarker at 0x7f433a5397f0>,\n",
       " <folium.vector_layers.CircleMarker at 0x7f433a539dd8>,\n",
       " <folium.vector_layers.CircleMarker at 0x7f433a539e10>,\n",
       " <folium.vector_layers.CircleMarker at 0x7f433a539cf8>,\n",
       " <folium.vector_layers.CircleMarker at 0x7f433a539ef0>,\n",
       " <folium.vector_layers.CircleMarker at 0x7f433a539f98>,\n",
       " <folium.vector_layers.CircleMarker at 0x7f433a539f28>,\n",
       " <folium.vector_layers.CircleMarker at 0x7f433a4cf0b8>,\n",
       " <folium.vector_layers.CircleMarker at 0x7f433a601e48>,\n",
       " <folium.vector_layers.CircleMarker at 0x7f433a5db390>,\n",
       " <folium.vector_layers.CircleMarker at 0x7f433a5225f8>,\n",
       " <folium.vector_layers.CircleMarker at 0x7f433a522470>,\n",
       " <folium.vector_layers.CircleMarker at 0x7f433a539e48>,\n",
       " <folium.vector_layers.CircleMarker at 0x7f433a539ba8>,\n",
       " <folium.vector_layers.CircleMarker at 0x7f433a539c50>,\n",
       " <folium.vector_layers.CircleMarker at 0x7f433a539160>,\n",
       " <folium.vector_layers.CircleMarker at 0x7f433a5394a8>,\n",
       " <folium.vector_layers.CircleMarker at 0x7f433a539898>,\n",
       " <folium.vector_layers.CircleMarker at 0x7f433a539358>,\n",
       " <folium.vector_layers.CircleMarker at 0x7f433a5398d0>,\n",
       " <folium.vector_layers.CircleMarker at 0x7f433a539c88>,\n",
       " <folium.vector_layers.CircleMarker at 0x7f433a539a90>,\n",
       " <folium.vector_layers.CircleMarker at 0x7f433a4cf208>,\n",
       " <folium.vector_layers.CircleMarker at 0x7f433a4cf2e8>,\n",
       " <folium.vector_layers.CircleMarker at 0x7f433a4cf320>,\n",
       " <folium.vector_layers.CircleMarker at 0x7f433a4cf3c8>,\n",
       " <folium.vector_layers.CircleMarker at 0x7f433a4cf470>,\n",
       " <folium.vector_layers.CircleMarker at 0x7f433a4cf518>,\n",
       " <folium.vector_layers.CircleMarker at 0x7f433a4cf5c0>,\n",
       " <folium.vector_layers.CircleMarker at 0x7f433a4cf668>,\n",
       " <folium.vector_layers.CircleMarker at 0x7f433a539fd0>,\n",
       " <folium.vector_layers.CircleMarker at 0x7f433a539908>,\n",
       " <folium.vector_layers.CircleMarker at 0x7f433a539080>,\n",
       " <folium.vector_layers.CircleMarker at 0x7f433a539f60>,\n",
       " <folium.vector_layers.CircleMarker at 0x7f433a5395f8>,\n",
       " <folium.vector_layers.CircleMarker at 0x7f433a6850b8>,\n",
       " <folium.vector_layers.CircleMarker at 0x7f433a539eb8>,\n",
       " <folium.vector_layers.CircleMarker at 0x7f433a522a58>,\n",
       " <folium.vector_layers.CircleMarker at 0x7f433a522630>,\n",
       " <folium.vector_layers.CircleMarker at 0x7f433a4cf588>,\n",
       " <folium.vector_layers.CircleMarker at 0x7f433a4cf438>,\n",
       " <folium.vector_layers.CircleMarker at 0x7f433a4cf048>,\n",
       " <folium.vector_layers.CircleMarker at 0x7f433a4cf278>,\n",
       " <folium.vector_layers.CircleMarker at 0x7f433a4cf710>,\n",
       " <folium.vector_layers.CircleMarker at 0x7f433a4cf5f8>,\n",
       " <folium.vector_layers.CircleMarker at 0x7f433a4cf828>,\n",
       " <folium.vector_layers.CircleMarker at 0x7f433a4cf860>,\n",
       " <folium.vector_layers.CircleMarker at 0x7f433a4cf908>,\n",
       " <folium.vector_layers.CircleMarker at 0x7f433a4cf9b0>,\n",
       " <folium.vector_layers.CircleMarker at 0x7f433a4cfa58>,\n",
       " <folium.vector_layers.CircleMarker at 0x7f433a4cfb00>,\n",
       " <folium.vector_layers.CircleMarker at 0x7f433a4cfba8>,\n",
       " <folium.vector_layers.CircleMarker at 0x7f433a522c88>,\n",
       " <folium.vector_layers.CircleMarker at 0x7f433a539d68>,\n",
       " <folium.vector_layers.CircleMarker at 0x7f433a539da0>,\n",
       " <folium.vector_layers.CircleMarker at 0x7f433a5397b8>,\n",
       " <folium.vector_layers.CircleMarker at 0x7f433a5399b0>,\n",
       " <folium.vector_layers.CircleMarker at 0x7f433a5395c0>,\n",
       " <folium.vector_layers.CircleMarker at 0x7f433a4cf898>,\n",
       " <folium.vector_layers.CircleMarker at 0x7f433a4cf7b8>,\n",
       " <folium.vector_layers.CircleMarker at 0x7f433a4cf1d0>,\n",
       " <folium.vector_layers.CircleMarker at 0x7f433a4cf0f0>,\n",
       " <folium.vector_layers.CircleMarker at 0x7f433a4cf550>,\n",
       " <folium.vector_layers.CircleMarker at 0x7f433a4cf400>,\n",
       " <folium.vector_layers.CircleMarker at 0x7f433a4cf4e0>,\n",
       " <folium.vector_layers.CircleMarker at 0x7f433a4cfc50>,\n",
       " <folium.vector_layers.CircleMarker at 0x7f433a4cfb38>,\n",
       " <folium.vector_layers.CircleMarker at 0x7f433a4cfd68>,\n",
       " <folium.vector_layers.CircleMarker at 0x7f433a4cfda0>,\n",
       " <folium.vector_layers.CircleMarker at 0x7f433a4cfe48>,\n",
       " <folium.vector_layers.CircleMarker at 0x7f433a4cfef0>,\n",
       " <folium.vector_layers.CircleMarker at 0x7f433a4cff98>,\n",
       " <folium.vector_layers.CircleMarker at 0x7f433a4cff28>,\n",
       " <folium.vector_layers.CircleMarker at 0x7f433a4e30b8>,\n",
       " <folium.vector_layers.CircleMarker at 0x7f433a4cfb70>,\n",
       " <folium.vector_layers.CircleMarker at 0x7f433a4cfbe0>,\n",
       " <folium.vector_layers.CircleMarker at 0x7f433a4cf4a8>,\n",
       " <folium.vector_layers.CircleMarker at 0x7f433a4cf390>,\n",
       " <folium.vector_layers.CircleMarker at 0x7f433a4cfa90>,\n",
       " <folium.vector_layers.CircleMarker at 0x7f433a4cf240>,\n",
       " <folium.vector_layers.CircleMarker at 0x7f433a4cf080>,\n",
       " <folium.vector_layers.CircleMarker at 0x7f433a4cfac8>,\n",
       " <folium.vector_layers.CircleMarker at 0x7f433a4cf6a0>,\n",
       " <folium.vector_layers.CircleMarker at 0x7f433a4cf780>,\n",
       " <folium.vector_layers.CircleMarker at 0x7f433a539748>,\n",
       " <folium.vector_layers.CircleMarker at 0x7f433a5227f0>,\n",
       " <folium.vector_layers.CircleMarker at 0x7f433a539518>,\n",
       " <folium.vector_layers.CircleMarker at 0x7f433a539470>,\n",
       " <folium.vector_layers.CircleMarker at 0x7f433a4e3208>,\n",
       " <folium.vector_layers.CircleMarker at 0x7f433a4e32e8>,\n",
       " <folium.vector_layers.CircleMarker at 0x7f433a4e3320>,\n",
       " <folium.vector_layers.CircleMarker at 0x7f433a4e33c8>,\n",
       " <folium.vector_layers.CircleMarker at 0x7f433a4e3470>,\n",
       " <folium.vector_layers.CircleMarker at 0x7f433a4e3518>,\n",
       " <folium.vector_layers.CircleMarker at 0x7f433a4e35c0>,\n",
       " <folium.vector_layers.CircleMarker at 0x7f433a539a58>,\n",
       " <folium.vector_layers.CircleMarker at 0x7f433a539668>,\n",
       " <folium.vector_layers.CircleMarker at 0x7f433a4cfcc0>,\n",
       " <folium.vector_layers.CircleMarker at 0x7f433a4cf2b0>,\n",
       " <folium.vector_layers.CircleMarker at 0x7f433a4cf8d0>,\n",
       " <folium.vector_layers.CircleMarker at 0x7f433a4cfeb8>,\n",
       " <folium.vector_layers.CircleMarker at 0x7f433a4cfd30>,\n",
       " <folium.vector_layers.CircleMarker at 0x7f433a4cff60>,\n",
       " <folium.vector_layers.CircleMarker at 0x7f433a4cfe10>,\n",
       " <folium.vector_layers.CircleMarker at 0x7f433a4e3668>,\n",
       " <folium.vector_layers.CircleMarker at 0x7f433a4e34e0>,\n",
       " <folium.vector_layers.CircleMarker at 0x7f433a4e3390>,\n",
       " <folium.vector_layers.CircleMarker at 0x7f433a4e32b0>,\n",
       " <folium.vector_layers.CircleMarker at 0x7f433a4e3080>,\n",
       " <folium.vector_layers.CircleMarker at 0x7f433a4e3550>,\n",
       " <folium.vector_layers.CircleMarker at 0x7f433a4e3780>,\n",
       " <folium.vector_layers.CircleMarker at 0x7f433a4e37b8>,\n",
       " <folium.vector_layers.CircleMarker at 0x7f433a4e3860>,\n",
       " <folium.vector_layers.CircleMarker at 0x7f433a4e3908>,\n",
       " <folium.vector_layers.CircleMarker at 0x7f433a4e39b0>,\n",
       " <folium.vector_layers.CircleMarker at 0x7f433a4e3a58>,\n",
       " <folium.vector_layers.CircleMarker at 0x7f433a4e3b00>,\n",
       " <folium.vector_layers.CircleMarker at 0x7f433a4cf978>,\n",
       " <folium.vector_layers.CircleMarker at 0x7f433a522da0>,\n",
       " <folium.vector_layers.CircleMarker at 0x7f433a4cf940>,\n",
       " <folium.vector_layers.CircleMarker at 0x7f433a539e80>,\n",
       " <folium.vector_layers.CircleMarker at 0x7f433a4cffd0>,\n",
       " <folium.vector_layers.CircleMarker at 0x7f433a4cfa20>,\n",
       " <folium.vector_layers.CircleMarker at 0x7f433a4e3a20>,\n",
       " <folium.vector_layers.CircleMarker at 0x7f433a4e38d0>,\n",
       " <folium.vector_layers.CircleMarker at 0x7f433a4e3128>,\n",
       " <folium.vector_layers.CircleMarker at 0x7f433a4e3748>,\n",
       " <folium.vector_layers.CircleMarker at 0x7f433a4e30f0>,\n",
       " <folium.vector_layers.CircleMarker at 0x7f433a4e3198>,\n",
       " <folium.vector_layers.CircleMarker at 0x7f433a4e3588>,\n",
       " <folium.vector_layers.CircleMarker at 0x7f433a4e3ba8>,\n",
       " <folium.vector_layers.CircleMarker at 0x7f433a4e3a90>,\n",
       " <folium.vector_layers.CircleMarker at 0x7f433a4e3cc0>,\n",
       " <folium.vector_layers.CircleMarker at 0x7f433a4e3cf8>,\n",
       " <folium.vector_layers.CircleMarker at 0x7f433a4e3da0>,\n",
       " <folium.vector_layers.CircleMarker at 0x7f433a4e3e48>,\n",
       " <folium.vector_layers.CircleMarker at 0x7f433a4e3ef0>,\n",
       " <folium.vector_layers.CircleMarker at 0x7f433a4e3f98>,\n",
       " <folium.vector_layers.CircleMarker at 0x7f433a4e3f28>,\n",
       " <folium.vector_layers.CircleMarker at 0x7f433a4e3e80>,\n",
       " <folium.vector_layers.CircleMarker at 0x7f433a4e3eb8>,\n",
       " <folium.vector_layers.CircleMarker at 0x7f433a4e3c18>,\n",
       " <folium.vector_layers.CircleMarker at 0x7f433a4e3c88>,\n",
       " <folium.vector_layers.CircleMarker at 0x7f433a4e31d0>,\n",
       " <folium.vector_layers.CircleMarker at 0x7f433a4e3438>,\n",
       " <folium.vector_layers.CircleMarker at 0x7f433a4e3710>,\n",
       " <folium.vector_layers.CircleMarker at 0x7f433a4e3278>,\n",
       " <folium.vector_layers.CircleMarker at 0x7f433a4e35f8>,\n",
       " <folium.vector_layers.CircleMarker at 0x7f433a4e3b70>,\n",
       " <folium.vector_layers.CircleMarker at 0x7f433a4e3978>,\n",
       " <folium.vector_layers.CircleMarker at 0x7f433a4cf128>,\n",
       " <folium.vector_layers.CircleMarker at 0x7f433a5db1d0>,\n",
       " <folium.vector_layers.CircleMarker at 0x7f433a4cf358>,\n",
       " <folium.vector_layers.CircleMarker at 0x7f433a4cfc88>,\n",
       " <folium.vector_layers.CircleMarker at 0x7f433a539278>,\n",
       " <folium.vector_layers.CircleMarker at 0x7f433a539320>,\n",
       " <folium.vector_layers.CircleMarker at 0x7f433a522080>,\n",
       " <folium.vector_layers.CircleMarker at 0x7f433a4cf198>,\n",
       " <folium.vector_layers.CircleMarker at 0x7f433a4ed0f0>,\n",
       " <folium.vector_layers.CircleMarker at 0x7f433a4ed208>,\n",
       " <folium.vector_layers.CircleMarker at 0x7f433a4ed2b0>,\n",
       " <folium.vector_layers.CircleMarker at 0x7f433a522cf8>,\n",
       " <folium.vector_layers.CircleMarker at 0x7f433a4cf748>,\n",
       " <folium.vector_layers.CircleMarker at 0x7f433a4cfc18>,\n",
       " <folium.vector_layers.CircleMarker at 0x7f433a4cf9e8>,\n",
       " <folium.vector_layers.CircleMarker at 0x7f433a4cf160>,\n",
       " <folium.vector_layers.CircleMarker at 0x7f433a4e36a0>,\n",
       " <folium.vector_layers.CircleMarker at 0x7f433a4e39e8>,\n",
       " <folium.vector_layers.CircleMarker at 0x7f433a4e3358>,\n",
       " <folium.vector_layers.CircleMarker at 0x7f433a4e3b38>,\n",
       " <folium.vector_layers.CircleMarker at 0x7f433a4e36d8>,\n",
       " <folium.vector_layers.CircleMarker at 0x7f433a4e3d30>,\n",
       " <folium.vector_layers.CircleMarker at 0x7f433a4e3c50>,\n",
       " <folium.vector_layers.CircleMarker at 0x7f433a4ed160>,\n",
       " <folium.vector_layers.CircleMarker at 0x7f433a4ed358>,\n",
       " <folium.vector_layers.CircleMarker at 0x7f433a4ed240>,\n",
       " <folium.vector_layers.CircleMarker at 0x7f433a4ed470>,\n",
       " <folium.vector_layers.CircleMarker at 0x7f433a4ed4a8>,\n",
       " <folium.vector_layers.CircleMarker at 0x7f433a4ed550>,\n",
       " <folium.vector_layers.CircleMarker at 0x7f433a4ed5f8>,\n",
       " <folium.vector_layers.CircleMarker at 0x7f433a4ed6a0>,\n",
       " <folium.vector_layers.CircleMarker at 0x7f433a4ed748>,\n",
       " <folium.vector_layers.CircleMarker at 0x7f433a4ed7f0>,\n",
       " <folium.vector_layers.CircleMarker at 0x7f433a4e3d68>,\n",
       " <folium.vector_layers.CircleMarker at 0x7f433a4e37f0>,\n",
       " <folium.vector_layers.CircleMarker at 0x7f433a4e3048>,\n",
       " <folium.vector_layers.CircleMarker at 0x7f433a4e3898>,\n",
       " <folium.vector_layers.CircleMarker at 0x7f433a4e3828>,\n",
       " <folium.vector_layers.CircleMarker at 0x7f433a539be0>,\n",
       " <folium.vector_layers.CircleMarker at 0x7f433a4cf6d8>,\n",
       " <folium.vector_layers.CircleMarker at 0x7f433a4cf7f0>,\n",
       " <folium.vector_layers.CircleMarker at 0x7f433a4ed4e0>,\n",
       " <folium.vector_layers.CircleMarker at 0x7f433a4ed400>,\n",
       " <folium.vector_layers.CircleMarker at 0x7f433a4ed1d0>,\n",
       " <folium.vector_layers.CircleMarker at 0x7f433a4ed198>,\n",
       " <folium.vector_layers.CircleMarker at 0x7f433a4ed048>,\n",
       " <folium.vector_layers.CircleMarker at 0x7f433a4ed898>,\n",
       " <folium.vector_layers.CircleMarker at 0x7f433a4ed780>,\n",
       " <folium.vector_layers.CircleMarker at 0x7f433a4ed9b0>,\n",
       " <folium.vector_layers.CircleMarker at 0x7f433a4ed9e8>,\n",
       " <folium.vector_layers.CircleMarker at 0x7f433a4eda90>,\n",
       " <folium.vector_layers.CircleMarker at 0x7f433a4edb38>,\n",
       " <folium.vector_layers.CircleMarker at 0x7f433a4edbe0>,\n",
       " <folium.vector_layers.CircleMarker at 0x7f433a4edc88>,\n",
       " <folium.vector_layers.CircleMarker at 0x7f433a4edd30>,\n",
       " <folium.vector_layers.CircleMarker at 0x7f433a4cfcf8>,\n",
       " <folium.vector_layers.CircleMarker at 0x7f433a4cfdd8>,\n",
       " <folium.vector_layers.CircleMarker at 0x7f433a4e3400>,\n",
       " <folium.vector_layers.CircleMarker at 0x7f433a4e3be0>,\n",
       " <folium.vector_layers.CircleMarker at 0x7f433a4e3f60>,\n",
       " <folium.vector_layers.CircleMarker at 0x7f433a4eda20>,\n",
       " <folium.vector_layers.CircleMarker at 0x7f433a4ed940>,\n",
       " <folium.vector_layers.CircleMarker at 0x7f433a4ed080>,\n",
       " <folium.vector_layers.CircleMarker at 0x7f433a4ed390>,\n",
       " <folium.vector_layers.CircleMarker at 0x7f433a4ed6d8>,\n",
       " <folium.vector_layers.CircleMarker at 0x7f433a4ed668>,\n",
       " <folium.vector_layers.CircleMarker at 0x7f433a4ed3c8>,\n",
       " <folium.vector_layers.CircleMarker at 0x7f433a4ed588>,\n",
       " <folium.vector_layers.CircleMarker at 0x7f433a4eddd8>,\n",
       " <folium.vector_layers.CircleMarker at 0x7f433a4edcc0>,\n",
       " <folium.vector_layers.CircleMarker at 0x7f433a4edef0>,\n",
       " <folium.vector_layers.CircleMarker at 0x7f433a4edf28>,\n",
       " <folium.vector_layers.CircleMarker at 0x7f433a4edfd0>,\n",
       " <folium.vector_layers.CircleMarker at 0x7f433a4edd68>,\n",
       " <folium.vector_layers.CircleMarker at 0x7f433a48d0b8>,\n",
       " <folium.vector_layers.CircleMarker at 0x7f433a48d198>,\n",
       " <folium.vector_layers.CircleMarker at 0x7f433a48d2b0>,\n",
       " <folium.vector_layers.CircleMarker at 0x7f433a4edcf8>,\n",
       " <folium.vector_layers.CircleMarker at 0x7f433a4ed7b8>,\n",
       " <folium.vector_layers.CircleMarker at 0x7f433a4ed438>,\n",
       " <folium.vector_layers.CircleMarker at 0x7f433a4ed2e8>,\n",
       " <folium.vector_layers.CircleMarker at 0x7f433a4ed278>,\n",
       " <folium.vector_layers.CircleMarker at 0x7f433a4ed0b8>,\n",
       " <folium.vector_layers.CircleMarker at 0x7f433a4edc50>,\n",
       " <folium.vector_layers.CircleMarker at 0x7f433a4ed828>,\n",
       " <folium.vector_layers.CircleMarker at 0x7f433a4cfe80>,\n",
       " <folium.vector_layers.CircleMarker at 0x7f433a4ede10>,\n",
       " <folium.vector_layers.CircleMarker at 0x7f433a4e3630>,\n",
       " <folium.vector_layers.CircleMarker at 0x7f433a4e3240>,\n",
       " <folium.vector_layers.CircleMarker at 0x7f433a48d0f0>,\n",
       " <folium.vector_layers.CircleMarker at 0x7f433a48d358>,\n",
       " <folium.vector_layers.CircleMarker at 0x7f433a48d1d0>,\n",
       " <folium.vector_layers.CircleMarker at 0x7f433a48d470>,\n",
       " <folium.vector_layers.CircleMarker at 0x7f433a48d4a8>,\n",
       " <folium.vector_layers.CircleMarker at 0x7f433a48d550>,\n",
       " <folium.vector_layers.CircleMarker at 0x7f433a48d5f8>,\n",
       " <folium.vector_layers.CircleMarker at 0x7f433a48d6a0>,\n",
       " <folium.vector_layers.CircleMarker at 0x7f433a48d748>,\n",
       " <folium.vector_layers.CircleMarker at 0x7f433a48d7f0>,\n",
       " <folium.vector_layers.CircleMarker at 0x7f433a4cf630>,\n",
       " <folium.vector_layers.CircleMarker at 0x7f433a4e3160>,\n",
       " <folium.vector_layers.CircleMarker at 0x7f433a4edb70>,\n",
       " <folium.vector_layers.CircleMarker at 0x7f433a4edc18>,\n",
       " <folium.vector_layers.CircleMarker at 0x7f433a4ed710>,\n",
       " <folium.vector_layers.CircleMarker at 0x7f433a4ed5c0>,\n",
       " <folium.vector_layers.CircleMarker at 0x7f433a4ede80>,\n",
       " <folium.vector_layers.CircleMarker at 0x7f433a4edeb8>,\n",
       " <folium.vector_layers.CircleMarker at 0x7f433a48d710>,\n",
       " <folium.vector_layers.CircleMarker at 0x7f433a48d5c0>,\n",
       " <folium.vector_layers.CircleMarker at 0x7f433a48d3c8>,\n",
       " <folium.vector_layers.CircleMarker at 0x7f433a48d438>,\n",
       " <folium.vector_layers.CircleMarker at 0x7f433a48d128>,\n",
       " <folium.vector_layers.CircleMarker at 0x7f433a48d320>,\n",
       " <folium.vector_layers.CircleMarker at 0x7f433a48d908>,\n",
       " <folium.vector_layers.CircleMarker at 0x7f433a48d940>,\n",
       " <folium.vector_layers.CircleMarker at 0x7f433a48d828>,\n",
       " <folium.vector_layers.CircleMarker at 0x7f433a48da20>,\n",
       " <folium.vector_layers.CircleMarker at 0x7f433a48dac8>,\n",
       " <folium.vector_layers.CircleMarker at 0x7f433a48db70>,\n",
       " <folium.vector_layers.CircleMarker at 0x7f433a48dc18>,\n",
       " <folium.vector_layers.CircleMarker at 0x7f433a4ed128>,\n",
       " <folium.vector_layers.CircleMarker at 0x7f433a4eda58>,\n",
       " <folium.vector_layers.CircleMarker at 0x7f433a4ed978>,\n",
       " <folium.vector_layers.CircleMarker at 0x7f433a4e34a8>,\n",
       " <folium.vector_layers.CircleMarker at 0x7f433a4edac8>,\n",
       " <folium.vector_layers.CircleMarker at 0x7f433a4edf60>,\n",
       " <folium.vector_layers.CircleMarker at 0x7f433a48d240>,\n",
       " <folium.vector_layers.CircleMarker at 0x7f433a48d8d0>,\n",
       " <folium.vector_layers.CircleMarker at 0x7f433a48d9b0>,\n",
       " <folium.vector_layers.CircleMarker at 0x7f433a48d160>,\n",
       " <folium.vector_layers.CircleMarker at 0x7f433a48d208>,\n",
       " <folium.vector_layers.CircleMarker at 0x7f433a48d4e0>,\n",
       " <folium.vector_layers.CircleMarker at 0x7f433a48d518>,\n",
       " <folium.vector_layers.CircleMarker at 0x7f433a48d7b8>,\n",
       " <folium.vector_layers.CircleMarker at 0x7f433a48dba8>,\n",
       " <folium.vector_layers.CircleMarker at 0x7f433a48ddd8>,\n",
       " <folium.vector_layers.CircleMarker at 0x7f433a48de10>,\n",
       " <folium.vector_layers.CircleMarker at 0x7f433a48deb8>,\n",
       " <folium.vector_layers.CircleMarker at 0x7f433a48df60>,\n",
       " <folium.vector_layers.CircleMarker at 0x7f433a48def0>,\n",
       " <folium.vector_layers.CircleMarker at 0x7f433a4a1048>,\n",
       " <folium.vector_layers.CircleMarker at 0x7f433a4a1160>,\n",
       " <folium.vector_layers.CircleMarker at 0x7f433a48dd30>,\n",
       " <folium.vector_layers.CircleMarker at 0x7f433a48df28>,\n",
       " <folium.vector_layers.CircleMarker at 0x7f433a48d2e8>,\n",
       " <folium.vector_layers.CircleMarker at 0x7f433a48dcf8>,\n",
       " <folium.vector_layers.CircleMarker at 0x7f433a48d898>,\n",
       " <folium.vector_layers.CircleMarker at 0x7f433a48d390>,\n",
       " <folium.vector_layers.CircleMarker at 0x7f433a48db38>,\n",
       " <folium.vector_layers.CircleMarker at 0x7f433a48d6d8>,\n",
       " <folium.vector_layers.CircleMarker at 0x7f433a4e3ac8>,\n",
       " <folium.vector_layers.CircleMarker at 0x7f433a48d780>,\n",
       " <folium.vector_layers.CircleMarker at 0x7f433a48da90>,\n",
       " <folium.vector_layers.CircleMarker at 0x7f433a4ed630>,\n",
       " <folium.vector_layers.CircleMarker at 0x7f433a4ed518>,\n",
       " <folium.vector_layers.CircleMarker at 0x7f433a4a10f0>,\n",
       " <folium.vector_layers.CircleMarker at 0x7f433a4a1278>,\n",
       " <folium.vector_layers.CircleMarker at 0x7f433a4a1358>,\n",
       " <folium.vector_layers.CircleMarker at 0x7f433a4a1390>,\n",
       " <folium.vector_layers.CircleMarker at 0x7f433a4a1438>,\n",
       " <folium.vector_layers.CircleMarker at 0x7f433a4a14e0>,\n",
       " <folium.vector_layers.CircleMarker at 0x7f433a4a1588>,\n",
       " <folium.vector_layers.CircleMarker at 0x7f433a4a1630>,\n",
       " <folium.vector_layers.CircleMarker at 0x7f433a4a16d8>,\n",
       " <folium.vector_layers.CircleMarker at 0x7f433a4e3e10>,\n",
       " <folium.vector_layers.CircleMarker at 0x7f433a4ed8d0>,\n",
       " <folium.vector_layers.CircleMarker at 0x7f433a48dcc0>,\n",
       " <folium.vector_layers.CircleMarker at 0x7f433a48d588>,\n",
       " <folium.vector_layers.CircleMarker at 0x7f433a48dda0>,\n",
       " <folium.vector_layers.CircleMarker at 0x7f433a48d668>,\n",
       " <folium.vector_layers.CircleMarker at 0x7f433a48d860>,\n",
       " <folium.vector_layers.CircleMarker at 0x7f433a48de48>,\n",
       " <folium.vector_layers.CircleMarker at 0x7f433a48dfd0>,\n",
       " <folium.vector_layers.CircleMarker at 0x7f433a4a13c8>,\n",
       " <folium.vector_layers.CircleMarker at 0x7f433a4a1128>,\n",
       " <folium.vector_layers.CircleMarker at 0x7f433a4a10b8>,\n",
       " <folium.vector_layers.CircleMarker at 0x7f433a4a1240>,\n",
       " <folium.vector_layers.CircleMarker at 0x7f433a4a1780>,\n",
       " <folium.vector_layers.CircleMarker at 0x7f433a4a1668>,\n",
       " <folium.vector_layers.CircleMarker at 0x7f433a4a1898>,\n",
       " <folium.vector_layers.CircleMarker at 0x7f433a4a18d0>,\n",
       " <folium.vector_layers.CircleMarker at 0x7f433a4a1978>,\n",
       " <folium.vector_layers.CircleMarker at 0x7f433a4a1a20>,\n",
       " <folium.vector_layers.CircleMarker at 0x7f433a4a1ac8>,\n",
       " <folium.vector_layers.CircleMarker at 0x7f433a4a1b70>,\n",
       " <folium.vector_layers.CircleMarker at 0x7f433a4a1c18>,\n",
       " <folium.vector_layers.CircleMarker at 0x7f433a48da58>,\n",
       " <folium.vector_layers.CircleMarker at 0x7f433a48d048>,\n",
       " <folium.vector_layers.CircleMarker at 0x7f433a48d9e8>,\n",
       " <folium.vector_layers.CircleMarker at 0x7f433a48d978>,\n",
       " <folium.vector_layers.CircleMarker at 0x7f433a4ed908>,\n",
       " <folium.vector_layers.CircleMarker at 0x7f433a4a1a58>,\n",
       " <folium.vector_layers.CircleMarker at 0x7f433a4a1a90>,\n",
       " <folium.vector_layers.CircleMarker at 0x7f433a4a1940>,\n",
       " <folium.vector_layers.CircleMarker at 0x7f433a4a1080>,\n",
       " <folium.vector_layers.CircleMarker at 0x7f433a4a17b8>,\n",
       " <folium.vector_layers.CircleMarker at 0x7f433a4a1550>,\n",
       " <folium.vector_layers.CircleMarker at 0x7f433a4a12b0>,\n",
       " <folium.vector_layers.CircleMarker at 0x7f433a4a1470>,\n",
       " <folium.vector_layers.CircleMarker at 0x7f433a4a1cc0>,\n",
       " <folium.vector_layers.CircleMarker at 0x7f433a4a1ba8>,\n",
       " <folium.vector_layers.CircleMarker at 0x7f433a4a1dd8>,\n",
       " <folium.vector_layers.CircleMarker at 0x7f433a4a1e10>,\n",
       " <folium.vector_layers.CircleMarker at 0x7f433a4a1eb8>,\n",
       " <folium.vector_layers.CircleMarker at 0x7f433a4a1f60>,\n",
       " <folium.vector_layers.CircleMarker at 0x7f433a4a1ef0>,\n",
       " <folium.vector_layers.CircleMarker at 0x7f433a4b6048>,\n",
       " <folium.vector_layers.CircleMarker at 0x7f433a4b6128>,\n",
       " <folium.vector_layers.CircleMarker at 0x7f433a4a19b0>,\n",
       " <folium.vector_layers.CircleMarker at 0x7f433a4a1f28>,\n",
       " <folium.vector_layers.CircleMarker at 0x7f433a4a1518>,\n",
       " <folium.vector_layers.CircleMarker at 0x7f433a4a1cf8>,\n",
       " <folium.vector_layers.CircleMarker at 0x7f433a4a1400>,\n",
       " <folium.vector_layers.CircleMarker at 0x7f433a4a15f8>,\n",
       " <folium.vector_layers.CircleMarker at 0x7f433a4a1710>,\n",
       " <folium.vector_layers.CircleMarker at 0x7f433a4a1208>,\n",
       " <folium.vector_layers.CircleMarker at 0x7f433a4edba8>,\n",
       " <folium.vector_layers.CircleMarker at 0x7f433a4a1b38>,\n",
       " <folium.vector_layers.CircleMarker at 0x7f433a4a1be0>,\n",
       " <folium.vector_layers.CircleMarker at 0x7f433a48d278>,\n",
       " <folium.vector_layers.CircleMarker at 0x7f433a48dc50>,\n",
       " <folium.vector_layers.CircleMarker at 0x7f433a4b60b8>,\n",
       " <folium.vector_layers.CircleMarker at 0x7f433a4b6278>,\n",
       " <folium.vector_layers.CircleMarker at 0x7f433a4b6358>,\n",
       " <folium.vector_layers.CircleMarker at 0x7f433a4b6390>,\n",
       " <folium.vector_layers.CircleMarker at 0x7f433a4b6438>,\n",
       " <folium.vector_layers.CircleMarker at 0x7f433a4b64e0>,\n",
       " <folium.vector_layers.CircleMarker at 0x7f433a4b6588>,\n",
       " <folium.vector_layers.CircleMarker at 0x7f433a4b6630>,\n",
       " <folium.vector_layers.CircleMarker at 0x7f433a48d630>,\n",
       " <folium.vector_layers.CircleMarker at 0x7f433a48dbe0>,\n",
       " <folium.vector_layers.CircleMarker at 0x7f433a4edf98>,\n",
       " <folium.vector_layers.CircleMarker at 0x7f433a4a17f0>,\n",
       " <folium.vector_layers.CircleMarker at 0x7f433a4a15c0>,\n",
       " <folium.vector_layers.CircleMarker at 0x7f433a4a1d68>,\n",
       " <folium.vector_layers.CircleMarker at 0x7f433a4a14a8>,\n",
       " <folium.vector_layers.CircleMarker at 0x7f433a4a1c50>,\n",
       " <folium.vector_layers.CircleMarker at 0x7f433a4a1d30>,\n",
       " <folium.vector_layers.CircleMarker at 0x7f433a4b66d8>,\n",
       " <folium.vector_layers.CircleMarker at 0x7f433a4b6550>,\n",
       " <folium.vector_layers.CircleMarker at 0x7f433a4b6400>,\n",
       " <folium.vector_layers.CircleMarker at 0x7f433a4b6320>,\n",
       " <folium.vector_layers.CircleMarker at 0x7f433a4b6080>,\n",
       " <folium.vector_layers.CircleMarker at 0x7f433a4b65c0>,\n",
       " <folium.vector_layers.CircleMarker at 0x7f433a4b67f0>,\n",
       " <folium.vector_layers.CircleMarker at 0x7f433a4b6828>,\n",
       " <folium.vector_layers.CircleMarker at 0x7f433a4b68d0>,\n",
       " <folium.vector_layers.CircleMarker at 0x7f433a4b6978>,\n",
       " <folium.vector_layers.CircleMarker at 0x7f433a4b6a20>,\n",
       " <folium.vector_layers.CircleMarker at 0x7f433a4b6ac8>,\n",
       " <folium.vector_layers.CircleMarker at 0x7f433a4b6b70>,\n",
       " <folium.vector_layers.CircleMarker at 0x7f433a4a19e8>,\n",
       " <folium.vector_layers.CircleMarker at 0x7f433a4a1e80>,\n",
       " <folium.vector_layers.CircleMarker at 0x7f433a4a12e8>,\n",
       " <folium.vector_layers.CircleMarker at 0x7f433a4a16a0>,\n",
       " <folium.vector_layers.CircleMarker at 0x7f433a539d30>,\n",
       " <folium.vector_layers.CircleMarker at 0x7f433a4a1c88>,\n",
       " <folium.vector_layers.CircleMarker at 0x7f433a5220b8>,\n",
       " <folium.vector_layers.CircleMarker at 0x7f433a48df98>,\n",
       " <folium.vector_layers.CircleMarker at 0x7f433a48d080>,\n",
       " <folium.vector_layers.CircleMarker at 0x7f433a4ed860>,\n",
       " <folium.vector_layers.CircleMarker at 0x7f433a4ed320>,\n",
       " <folium.vector_layers.CircleMarker at 0x7f433a4b6860>,\n",
       " <folium.vector_layers.CircleMarker at 0x7f433a4b6780>,\n",
       " <folium.vector_layers.CircleMarker at 0x7f433a4b6208>,\n",
       " <folium.vector_layers.CircleMarker at 0x7f433a4b62b0>,\n",
       " <folium.vector_layers.CircleMarker at 0x7f433a4b6240>,\n",
       " <folium.vector_layers.CircleMarker at 0x7f433a4b60f0>,\n",
       " <folium.vector_layers.CircleMarker at 0x7f433a4b6748>,\n",
       " <folium.vector_layers.CircleMarker at 0x7f433a4b6a58>,\n",
       " <folium.vector_layers.CircleMarker at 0x7f433a4b6c50>,\n",
       " <folium.vector_layers.CircleMarker at 0x7f433a4b6cf8>,\n",
       " <folium.vector_layers.CircleMarker at 0x7f433a4b6470>,\n",
       " <folium.vector_layers.CircleMarker at 0x7f433a4e3dd8>,\n",
       " <folium.vector_layers.CircleMarker at 0x7f433a4edda0>,\n",
       " <folium.vector_layers.CircleMarker at 0x7f433a48de80>,\n",
       " <folium.vector_layers.CircleMarker at 0x7f433a4a1908>,\n",
       " <folium.vector_layers.CircleMarker at 0x7f433a4a1f98>,\n",
       " <folium.vector_layers.CircleMarker at 0x7f433a4a1da0>,\n",
       " <folium.vector_layers.CircleMarker at 0x7f433a4a1828>,\n",
       " <folium.vector_layers.CircleMarker at 0x7f433a4b6ba8>,\n",
       " <folium.vector_layers.CircleMarker at 0x7f433a4b6c88>,\n",
       " <folium.vector_layers.CircleMarker at 0x7f433a4b6710>,\n",
       " <folium.vector_layers.CircleMarker at 0x7f433a4b6160>,\n",
       " <folium.vector_layers.CircleMarker at 0x7f433a4b69e8>,\n",
       " <folium.vector_layers.CircleMarker at 0x7f433a4b61d0>,\n",
       " <folium.vector_layers.CircleMarker at 0x7f433a4b6908>,\n",
       " <folium.vector_layers.CircleMarker at 0x7f433a4b6d30>,\n",
       " <folium.vector_layers.CircleMarker at 0x7f433a4b6ef0>,\n",
       " <folium.vector_layers.CircleMarker at 0x7f433a4b6f28>,\n",
       " <folium.vector_layers.CircleMarker at 0x7f433a4b6fd0>,\n",
       " <folium.vector_layers.CircleMarker at 0x7f433a4b6d68>,\n",
       " <folium.vector_layers.CircleMarker at 0x7f433a44a0b8>,\n",
       " <folium.vector_layers.CircleMarker at 0x7f433a44a198>,\n",
       " <folium.vector_layers.CircleMarker at 0x7f433a44a2b0>,\n",
       " <folium.vector_layers.CircleMarker at 0x7f433a4b6dd8>,\n",
       " <folium.vector_layers.CircleMarker at 0x7f433a4b6b38>,\n",
       " <folium.vector_layers.CircleMarker at 0x7f433a4b6898>,\n",
       " <folium.vector_layers.CircleMarker at 0x7f433a4b6a90>,\n",
       " <folium.vector_layers.CircleMarker at 0x7f433a4b6518>,\n",
       " <folium.vector_layers.CircleMarker at 0x7f433a4b66a0>,\n",
       " <folium.vector_layers.CircleMarker at 0x7f433a4b6e48>,\n",
       " <folium.vector_layers.CircleMarker at 0x7f433a4b62e8>,\n",
       " <folium.vector_layers.CircleMarker at 0x7f433a4edb00>,\n",
       " <folium.vector_layers.CircleMarker at 0x7f433a48dd68>,\n",
       " <folium.vector_layers.CircleMarker at 0x7f433a48dc88>,\n",
       " <folium.vector_layers.CircleMarker at 0x7f433a4a1fd0>,\n",
       " <folium.vector_layers.CircleMarker at 0x7f433a44a0f0>,\n",
       " <folium.vector_layers.CircleMarker at 0x7f433a44a358>,\n",
       " <folium.vector_layers.CircleMarker at 0x7f433a44a1d0>,\n",
       " <folium.vector_layers.CircleMarker at 0x7f433a44a470>,\n",
       " <folium.vector_layers.CircleMarker at 0x7f433a44a4a8>,\n",
       " <folium.vector_layers.CircleMarker at 0x7f433a44a550>,\n",
       " <folium.vector_layers.CircleMarker at 0x7f433a44a5f8>,\n",
       " <folium.vector_layers.CircleMarker at 0x7f433a44a6a0>,\n",
       " <folium.vector_layers.CircleMarker at 0x7f433a44a748>,\n",
       " <folium.vector_layers.CircleMarker at 0x7f433a44a7f0>,\n",
       " <folium.vector_layers.CircleMarker at 0x7f433a48d400>,\n",
       " <folium.vector_layers.CircleMarker at 0x7f433a4a1860>,\n",
       " <folium.vector_layers.CircleMarker at 0x7f433a4a11d0>,\n",
       " <folium.vector_layers.CircleMarker at 0x7f433a4b6cc0>,\n",
       " <folium.vector_layers.CircleMarker at 0x7f433a4b6198>,\n",
       " <folium.vector_layers.CircleMarker at 0x7f433a4b67b8>,\n",
       " <folium.vector_layers.CircleMarker at 0x7f433a4b6e80>,\n",
       " <folium.vector_layers.CircleMarker at 0x7f433a4b6f98>,\n",
       " <folium.vector_layers.CircleMarker at 0x7f433a44a4e0>,\n",
       " <folium.vector_layers.CircleMarker at 0x7f433a44a400>,\n",
       " <folium.vector_layers.CircleMarker at 0x7f433a44a278>,\n",
       " <folium.vector_layers.CircleMarker at 0x7f433a44a160>,\n",
       " <folium.vector_layers.CircleMarker at 0x7f433a44a048>,\n",
       " <folium.vector_layers.CircleMarker at 0x7f433a44a898>,\n",
       " <folium.vector_layers.CircleMarker at 0x7f433a44a780>,\n",
       " <folium.vector_layers.CircleMarker at 0x7f433a44a9b0>,\n",
       " <folium.vector_layers.CircleMarker at 0x7f433a44a9e8>,\n",
       " <folium.vector_layers.CircleMarker at 0x7f433a44aa90>,\n",
       " <folium.vector_layers.CircleMarker at 0x7f433a44ab38>,\n",
       " <folium.vector_layers.CircleMarker at 0x7f433a44abe0>,\n",
       " <folium.vector_layers.CircleMarker at 0x7f433a44ac88>,\n",
       " <folium.vector_layers.CircleMarker at 0x7f433a44ad30>,\n",
       " <folium.vector_layers.CircleMarker at 0x7f433a4b64a8>,\n",
       " <folium.vector_layers.CircleMarker at 0x7f433a4ede48>,\n",
       " <folium.vector_layers.CircleMarker at 0x7f433a4a1748>,\n",
       " <folium.vector_layers.CircleMarker at 0x7f433a4a1198>,\n",
       " <folium.vector_layers.CircleMarker at 0x7f433a4b69b0>,\n",
       " <folium.vector_layers.CircleMarker at 0x7f433a44aa20>,\n",
       " <folium.vector_layers.CircleMarker at 0x7f433a44a940>,\n",
       " <folium.vector_layers.CircleMarker at 0x7f433a44a240>,\n",
       " <folium.vector_layers.CircleMarker at 0x7f433a44a390>,\n",
       " <folium.vector_layers.CircleMarker at 0x7f433a44a6d8>,\n",
       " <folium.vector_layers.CircleMarker at 0x7f433a44a668>,\n",
       " <folium.vector_layers.CircleMarker at 0x7f433a44a3c8>,\n",
       " <folium.vector_layers.CircleMarker at 0x7f433a44a588>,\n",
       " <folium.vector_layers.CircleMarker at 0x7f433a44add8>,\n",
       " <folium.vector_layers.CircleMarker at 0x7f433a44acc0>,\n",
       " <folium.vector_layers.CircleMarker at 0x7f433a44aef0>,\n",
       " <folium.vector_layers.CircleMarker at 0x7f433a44af28>,\n",
       " <folium.vector_layers.CircleMarker at 0x7f433a44afd0>,\n",
       " <folium.vector_layers.CircleMarker at 0x7f433a44ad68>,\n",
       " <folium.vector_layers.CircleMarker at 0x7f433a45f0f0>,\n",
       " <folium.vector_layers.CircleMarker at 0x7f433a45f208>,\n",
       " <folium.vector_layers.CircleMarker at 0x7f433a45f2b0>,\n",
       " <folium.vector_layers.CircleMarker at 0x7f433a44acf8>,\n",
       " <folium.vector_layers.CircleMarker at 0x7f433a44a7b8>,\n",
       " <folium.vector_layers.CircleMarker at 0x7f433a44a438>,\n",
       " <folium.vector_layers.CircleMarker at 0x7f433a44a2e8>,\n",
       " <folium.vector_layers.CircleMarker at 0x7f433a44a208>,\n",
       " <folium.vector_layers.CircleMarker at 0x7f433a44a080>,\n",
       " <folium.vector_layers.CircleMarker at 0x7f433a4a1320>,\n",
       " <folium.vector_layers.CircleMarker at 0x7f433a44ab00>,\n",
       " <folium.vector_layers.CircleMarker at 0x7f433a44aac8>,\n",
       " <folium.vector_layers.CircleMarker at 0x7f433a44a828>,\n",
       " <folium.vector_layers.CircleMarker at 0x7f433a4b65f8>,\n",
       " <folium.vector_layers.CircleMarker at 0x7f433a4b6c18>,\n",
       " <folium.vector_layers.CircleMarker at 0x7f433a45f160>,\n",
       " <folium.vector_layers.CircleMarker at 0x7f433a45f358>,\n",
       " <folium.vector_layers.CircleMarker at 0x7f433a45f240>,\n",
       " <folium.vector_layers.CircleMarker at 0x7f433a45f470>,\n",
       " <folium.vector_layers.CircleMarker at 0x7f433a45f4a8>,\n",
       " <folium.vector_layers.CircleMarker at 0x7f433a45f550>,\n",
       " <folium.vector_layers.CircleMarker at 0x7f433a45f5f8>,\n",
       " <folium.vector_layers.CircleMarker at 0x7f433a45f6a0>,\n",
       " <folium.vector_layers.CircleMarker at 0x7f433a45f748>,\n",
       " <folium.vector_layers.CircleMarker at 0x7f433a45f7f0>,\n",
       " <folium.vector_layers.CircleMarker at 0x7f433a4a1b00>,\n",
       " <folium.vector_layers.CircleMarker at 0x7f433a4b6e10>,\n",
       " <folium.vector_layers.CircleMarker at 0x7f433a44ab70>,\n",
       " <folium.vector_layers.CircleMarker at 0x7f433a44ac18>,\n",
       " <folium.vector_layers.CircleMarker at 0x7f433a44a710>,\n",
       " <folium.vector_layers.CircleMarker at 0x7f433a44a5c0>,\n",
       " <folium.vector_layers.CircleMarker at 0x7f433a44ae80>,\n",
       " <folium.vector_layers.CircleMarker at 0x7f433a44aeb8>,\n",
       " <folium.vector_layers.CircleMarker at 0x7f433a45f710>,\n",
       " <folium.vector_layers.CircleMarker at 0x7f433a45f5c0>,\n",
       " <folium.vector_layers.CircleMarker at 0x7f433a45f3c8>,\n",
       " <folium.vector_layers.CircleMarker at 0x7f433a45f438>,\n",
       " <folium.vector_layers.CircleMarker at 0x7f433a45f128>,\n",
       " <folium.vector_layers.CircleMarker at 0x7f433a45f320>,\n",
       " <folium.vector_layers.CircleMarker at 0x7f433a45f908>,\n",
       " <folium.vector_layers.CircleMarker at 0x7f433a45f940>,\n",
       " <folium.vector_layers.CircleMarker at 0x7f433a45f828>,\n",
       " <folium.vector_layers.CircleMarker at 0x7f433a45fa20>,\n",
       " <folium.vector_layers.CircleMarker at 0x7f433a45fac8>,\n",
       " <folium.vector_layers.CircleMarker at 0x7f433a45fb70>,\n",
       " <folium.vector_layers.CircleMarker at 0x7f433a45fc18>,\n",
       " <folium.vector_layers.CircleMarker at 0x7f433a44a128>,\n",
       " <folium.vector_layers.CircleMarker at 0x7f433a44aa58>,\n",
       " <folium.vector_layers.CircleMarker at 0x7f433a44a978>,\n",
       " <folium.vector_layers.CircleMarker at 0x7f433a4b6668>,\n",
       " <folium.vector_layers.CircleMarker at 0x7f433a44aba8>,\n",
       " <folium.vector_layers.CircleMarker at 0x7f433a44af60>,\n",
       " <folium.vector_layers.CircleMarker at 0x7f433a45f080>,\n",
       " <folium.vector_layers.CircleMarker at 0x7f433a45f8d0>,\n",
       " <folium.vector_layers.CircleMarker at 0x7f433a45f9b0>,\n",
       " <folium.vector_layers.CircleMarker at 0x7f433a45f198>,\n",
       " <folium.vector_layers.CircleMarker at 0x7f433a45f278>,\n",
       " <folium.vector_layers.CircleMarker at 0x7f433a45f4e0>,\n",
       " <folium.vector_layers.CircleMarker at 0x7f433a45f518>,\n",
       " <folium.vector_layers.CircleMarker at 0x7f433a45f7b8>,\n",
       " <folium.vector_layers.CircleMarker at 0x7f433a45fba8>,\n",
       " <folium.vector_layers.CircleMarker at 0x7f433a45fdd8>,\n",
       " <folium.vector_layers.CircleMarker at 0x7f433a45fe10>,\n",
       " <folium.vector_layers.CircleMarker at 0x7f433a45feb8>,\n",
       " <folium.vector_layers.CircleMarker at 0x7f433a45ff60>,\n",
       " <folium.vector_layers.CircleMarker at 0x7f433a45fef0>,\n",
       " <folium.vector_layers.CircleMarker at 0x7f433a473048>,\n",
       " <folium.vector_layers.CircleMarker at 0x7f433a473128>,\n",
       " <folium.vector_layers.CircleMarker at 0x7f433a45fd30>,\n",
       " <folium.vector_layers.CircleMarker at 0x7f433a45ff28>,\n",
       " <folium.vector_layers.CircleMarker at 0x7f433a45f2e8>,\n",
       " <folium.vector_layers.CircleMarker at 0x7f433a45fcf8>,\n",
       " <folium.vector_layers.CircleMarker at 0x7f433a45f898>,\n",
       " <folium.vector_layers.CircleMarker at 0x7f433a45f390>,\n",
       " <folium.vector_layers.CircleMarker at 0x7f433a45fb38>,\n",
       " <folium.vector_layers.CircleMarker at 0x7f433a45f6d8>,\n",
       " <folium.vector_layers.CircleMarker at 0x7f433a4b63c8>,\n",
       " <folium.vector_layers.CircleMarker at 0x7f433a45f780>,\n",
       " <folium.vector_layers.CircleMarker at 0x7f433a45fa90>,\n",
       " <folium.vector_layers.CircleMarker at 0x7f433a44a630>,\n",
       " <folium.vector_layers.CircleMarker at 0x7f433a44a518>,\n",
       " <folium.vector_layers.CircleMarker at 0x7f433a4730b8>,\n",
       " <folium.vector_layers.CircleMarker at 0x7f433a473278>,\n",
       " <folium.vector_layers.CircleMarker at 0x7f433a473358>,\n",
       " <folium.vector_layers.CircleMarker at 0x7f433a473390>,\n",
       " <folium.vector_layers.CircleMarker at 0x7f433a473438>,\n",
       " <folium.vector_layers.CircleMarker at 0x7f433a4734e0>,\n",
       " <folium.vector_layers.CircleMarker at 0x7f433a473588>,\n",
       " <folium.vector_layers.CircleMarker at 0x7f433a473630>,\n",
       " <folium.vector_layers.CircleMarker at 0x7f433a4736d8>,\n",
       " <folium.vector_layers.CircleMarker at 0x7f433a4b6940>,\n",
       " <folium.vector_layers.CircleMarker at 0x7f433a44a8d0>,\n",
       " <folium.vector_layers.CircleMarker at 0x7f433a45fcc0>,\n",
       " <folium.vector_layers.CircleMarker at 0x7f433a45f588>,\n",
       " <folium.vector_layers.CircleMarker at 0x7f433a45fda0>,\n",
       " <folium.vector_layers.CircleMarker at 0x7f433a45f668>,\n",
       " <folium.vector_layers.CircleMarker at 0x7f433a45f860>,\n",
       " <folium.vector_layers.CircleMarker at 0x7f433a45fe48>,\n",
       " <folium.vector_layers.CircleMarker at 0x7f433a45ffd0>,\n",
       " <folium.vector_layers.CircleMarker at 0x7f433a4733c8>,\n",
       " <folium.vector_layers.CircleMarker at 0x7f433a4730f0>,\n",
       " <folium.vector_layers.CircleMarker at 0x7f433a473160>,\n",
       " <folium.vector_layers.CircleMarker at 0x7f433a473240>,\n",
       " <folium.vector_layers.CircleMarker at 0x7f433a473780>,\n",
       " <folium.vector_layers.CircleMarker at 0x7f433a473668>,\n",
       " <folium.vector_layers.CircleMarker at 0x7f433a473898>,\n",
       " <folium.vector_layers.CircleMarker at 0x7f433a4738d0>,\n",
       " <folium.vector_layers.CircleMarker at 0x7f433a473978>,\n",
       " <folium.vector_layers.CircleMarker at 0x7f433a473a20>,\n",
       " <folium.vector_layers.CircleMarker at 0x7f433a473ac8>,\n",
       " <folium.vector_layers.CircleMarker at 0x7f433a473b70>,\n",
       " <folium.vector_layers.CircleMarker at 0x7f433a473c18>,\n",
       " <folium.vector_layers.CircleMarker at 0x7f433a45fa58>,\n",
       " <folium.vector_layers.CircleMarker at 0x7f433a45f0b8>,\n",
       " <folium.vector_layers.CircleMarker at 0x7f433a45f9e8>,\n",
       " <folium.vector_layers.CircleMarker at 0x7f433a45f978>,\n",
       " <folium.vector_layers.CircleMarker at 0x7f433a44ae10>,\n",
       " <folium.vector_layers.CircleMarker at 0x7f433a473a58>,\n",
       " <folium.vector_layers.CircleMarker at 0x7f433a473a90>,\n",
       " <folium.vector_layers.CircleMarker at 0x7f433a473940>,\n",
       " <folium.vector_layers.CircleMarker at 0x7f433a473080>,\n",
       " <folium.vector_layers.CircleMarker at 0x7f433a4737b8>,\n",
       " <folium.vector_layers.CircleMarker at 0x7f433a473550>,\n",
       " <folium.vector_layers.CircleMarker at 0x7f433a4732b0>,\n",
       " <folium.vector_layers.CircleMarker at 0x7f433a473470>,\n",
       " <folium.vector_layers.CircleMarker at 0x7f433a473cc0>,\n",
       " <folium.vector_layers.CircleMarker at 0x7f433a473ba8>,\n",
       " <folium.vector_layers.CircleMarker at 0x7f433a473dd8>,\n",
       " <folium.vector_layers.CircleMarker at 0x7f433a473e10>,\n",
       " <folium.vector_layers.CircleMarker at 0x7f433a473eb8>,\n",
       " <folium.vector_layers.CircleMarker at 0x7f433a473f60>,\n",
       " <folium.vector_layers.CircleMarker at 0x7f433a473ef0>,\n",
       " <folium.vector_layers.CircleMarker at 0x7f433a487048>,\n",
       " <folium.vector_layers.CircleMarker at 0x7f433a487160>,\n",
       " <folium.vector_layers.CircleMarker at 0x7f433a4739b0>,\n",
       " <folium.vector_layers.CircleMarker at 0x7f433a473f28>,\n",
       " <folium.vector_layers.CircleMarker at 0x7f433a473518>,\n",
       " <folium.vector_layers.CircleMarker at 0x7f433a473cf8>,\n",
       " <folium.vector_layers.CircleMarker at 0x7f433a473400>,\n",
       " <folium.vector_layers.CircleMarker at 0x7f433a4735f8>,\n",
       " <folium.vector_layers.CircleMarker at 0x7f433a473710>,\n",
       " <folium.vector_layers.CircleMarker at 0x7f433a473208>,\n",
       " <folium.vector_layers.CircleMarker at 0x7f433a44a908>,\n",
       " <folium.vector_layers.CircleMarker at 0x7f433a473b38>,\n",
       " <folium.vector_layers.CircleMarker at 0x7f433a473be0>,\n",
       " <folium.vector_layers.CircleMarker at 0x7f433a45f1d0>,\n",
       " <folium.vector_layers.CircleMarker at 0x7f433a45fc50>,\n",
       " <folium.vector_layers.CircleMarker at 0x7f433a4870f0>,\n",
       " <folium.vector_layers.CircleMarker at 0x7f433a487278>,\n",
       " <folium.vector_layers.CircleMarker at 0x7f433a487358>,\n",
       " <folium.vector_layers.CircleMarker at 0x7f433a487390>,\n",
       " <folium.vector_layers.CircleMarker at 0x7f433a487438>,\n",
       " <folium.vector_layers.CircleMarker at 0x7f433a4874e0>,\n",
       " <folium.vector_layers.CircleMarker at 0x7f433a487588>,\n",
       " <folium.vector_layers.CircleMarker at 0x7f433a487630>,\n",
       " <folium.vector_layers.CircleMarker at 0x7f433a473828>,\n",
       " <folium.vector_layers.CircleMarker at 0x7f433a4737f0>,\n",
       " <folium.vector_layers.CircleMarker at 0x7f433a473da0>,\n",
       " <folium.vector_layers.CircleMarker at 0x7f433a473b00>,\n",
       " <folium.vector_layers.CircleMarker at 0x7f433a473d30>,\n",
       " <folium.vector_layers.CircleMarker at 0x7f433a473e48>,\n",
       " <folium.vector_layers.CircleMarker at 0x7f433a473748>,\n",
       " <folium.vector_layers.CircleMarker at 0x7f433a473f98>,\n",
       " <folium.vector_layers.CircleMarker at 0x7f433a45f630>,\n",
       " <folium.vector_layers.CircleMarker at 0x7f433a45ff98>,\n",
       " <folium.vector_layers.CircleMarker at 0x7f433a45fe80>,\n",
       " <folium.vector_layers.CircleMarker at 0x7f433a44af98>,\n",
       " <folium.vector_layers.CircleMarker at 0x7f433a4b6eb8>,\n",
       " <folium.vector_layers.CircleMarker at 0x7f433a4b6da0>,\n",
       " <folium.vector_layers.CircleMarker at 0x7f433a44ac50>,\n",
       " <folium.vector_layers.CircleMarker at 0x7f433a4873c8>,\n",
       " <folium.vector_layers.CircleMarker at 0x7f433a487128>,\n",
       " <folium.vector_layers.CircleMarker at 0x7f433a4870b8>,\n",
       " <folium.vector_layers.CircleMarker at 0x7f433a487240>,\n",
       " <folium.vector_layers.CircleMarker at 0x7f433a487710>,\n",
       " <folium.vector_layers.CircleMarker at 0x7f433a4877b8>,\n",
       " <folium.vector_layers.CircleMarker at 0x7f433a487208>,\n",
       " <folium.vector_layers.CircleMarker at 0x7f433a487898>,\n",
       " <folium.vector_layers.CircleMarker at 0x7f433a657da0>,\n",
       " <folium.vector_layers.CircleMarker at 0x7f4351c1e668>,\n",
       " <folium.vector_layers.CircleMarker at 0x7f436c21a668>,\n",
       " <folium.vector_layers.CircleMarker at 0x7f43689a8908>,\n",
       " <folium.vector_layers.CircleMarker at 0x7f4353fffb38>,\n",
       " <folium.vector_layers.CircleMarker at 0x7f4352527be0>,\n",
       " <folium.vector_layers.CircleMarker at 0x7f433a601fd0>,\n",
       " <folium.vector_layers.CircleMarker at 0x7f433a685390>,\n",
       " <folium.vector_layers.CircleMarker at 0x7f433a6855c0>,\n",
       " <folium.vector_layers.CircleMarker at 0x7f433a685320>,\n",
       " <folium.vector_layers.CircleMarker at 0x7f433a685d68>,\n",
       " <folium.vector_layers.CircleMarker at 0x7f433a685550>,\n",
       " <folium.vector_layers.CircleMarker at 0x7f433a48db00>,\n",
       " <folium.vector_layers.CircleMarker at 0x7f433a44ada0>,\n",
       " <folium.vector_layers.CircleMarker at 0x7f433a45fc88>,\n",
       " <folium.vector_layers.CircleMarker at 0x7f433a45fbe0>,\n",
       " <folium.vector_layers.CircleMarker at 0x7f433a473c88>,\n",
       " <folium.vector_layers.CircleMarker at 0x7f433a44a860>,\n",
       " <folium.vector_layers.CircleMarker at 0x7f433a45f048>,\n",
       " <folium.vector_layers.CircleMarker at 0x7f4352527ac8>,\n",
       " <folium.vector_layers.CircleMarker at 0x7f433a6854a8>,\n",
       " <folium.vector_layers.CircleMarker at 0x7f4353fff710>,\n",
       " <folium.vector_layers.CircleMarker at 0x7f433a5db2b0>,\n",
       " <folium.vector_layers.CircleMarker at 0x7f433aeba080>,\n",
       " <folium.vector_layers.CircleMarker at 0x7f433a685cc0>,\n",
       " <folium.vector_layers.CircleMarker at 0x7f433a685f98>,\n",
       " <folium.vector_layers.CircleMarker at 0x7f433a601208>,\n",
       " <folium.vector_layers.CircleMarker at 0x7f433a473e80>,\n",
       " <folium.vector_layers.CircleMarker at 0x7f433a4a1e48>,\n",
       " <folium.vector_layers.CircleMarker at 0x7f433a473198>,\n",
       " <folium.vector_layers.CircleMarker at 0x7f433a4b6be0>,\n",
       " <folium.vector_layers.CircleMarker at 0x7f433a522a20>,\n",
       " <folium.vector_layers.CircleMarker at 0x7f433a4e3fd0>,\n",
       " <folium.vector_layers.CircleMarker at 0x7f433a67c7b8>,\n",
       " <folium.vector_layers.CircleMarker at 0x7f433a67cb70>,\n",
       " <folium.vector_layers.CircleMarker at 0x7f433a473908>,\n",
       " <folium.vector_layers.CircleMarker at 0x7f433a5d0128>,\n",
       " <folium.vector_layers.CircleMarker at 0x7f433a5d0048>,\n",
       " <folium.vector_layers.CircleMarker at 0x7f433a67c860>,\n",
       " <folium.vector_layers.CircleMarker at 0x7f433a4b6f60>,\n",
       " <folium.vector_layers.CircleMarker at 0x7f433a601588>,\n",
       " <folium.vector_layers.CircleMarker at 0x7f433a6b2550>,\n",
       " <folium.vector_layers.CircleMarker at 0x7f436d6217b8>,\n",
       " <folium.vector_layers.CircleMarker at 0x7f433a4732e8>,\n",
       " <folium.vector_layers.CircleMarker at 0x7f433a4736a0>,\n",
       " <folium.vector_layers.CircleMarker at 0x7f433a45fb00>,\n",
       " <folium.vector_layers.CircleMarker at 0x7f433a473fd0>,\n",
       " <folium.vector_layers.CircleMarker at 0x7f433a44ae48>,\n",
       " <folium.vector_layers.CircleMarker at 0x7f433a6853c8>,\n",
       " <folium.vector_layers.CircleMarker at 0x7f433a685a20>,\n",
       " <folium.vector_layers.CircleMarker at 0x7f433a5d0550>,\n",
       " <folium.vector_layers.CircleMarker at 0x7f433a5d0358>,\n",
       " <folium.vector_layers.CircleMarker at 0x7f433a5d0668>,\n",
       " <folium.vector_layers.CircleMarker at 0x7f433a5d0438>,\n",
       " <folium.vector_layers.CircleMarker at 0x7f433a5d05f8>,\n",
       " <folium.vector_layers.CircleMarker at 0x7f433a5d0ba8>,\n",
       " <folium.vector_layers.CircleMarker at 0x7f437490a438>,\n",
       " <folium.vector_layers.CircleMarker at 0x7f433a5d0710>,\n",
       " <folium.vector_layers.CircleMarker at 0x7f43689ae748>,\n",
       " <folium.vector_layers.CircleMarker at 0x7f433a45f400>,\n",
       " <folium.vector_layers.CircleMarker at 0x7f433a6c5710>,\n",
       " <folium.vector_layers.CircleMarker at 0x7f433a601048>,\n",
       " <folium.vector_layers.CircleMarker at 0x7f433a522898>,\n",
       " <folium.vector_layers.CircleMarker at 0x7f433a6852b0>,\n",
       " <folium.vector_layers.CircleMarker at 0x7f433a4e3940>,\n",
       " <folium.vector_layers.CircleMarker at 0x7f433a4739e8>,\n",
       " <folium.vector_layers.CircleMarker at 0x7f433a4735c0>,\n",
       " <folium.vector_layers.CircleMarker at 0x7f433a5d0978>,\n",
       " <folium.vector_layers.CircleMarker at 0x7f433a5d0be0>,\n",
       " <folium.vector_layers.CircleMarker at 0x7f433a5d0160>,\n",
       " <folium.vector_layers.CircleMarker at 0x7f433a5d0a90>,\n",
       " <folium.vector_layers.CircleMarker at 0x7f433a5d0390>,\n",
       " <folium.vector_layers.CircleMarker at 0x7f433a5d0748>,\n",
       " <folium.vector_layers.CircleMarker at 0x7f433a5d05c0>,\n",
       " <folium.vector_layers.CircleMarker at 0x7f43689b3eb8>,\n",
       " <folium.vector_layers.CircleMarker at 0x7f43689b35c0>,\n",
       " <folium.vector_layers.CircleMarker at 0x7f43689b32e8>,\n",
       " <folium.vector_layers.CircleMarker at 0x7f43689c3550>,\n",
       " <folium.vector_layers.CircleMarker at 0x7f43689c3048>,\n",
       " <folium.vector_layers.CircleMarker at 0x7f4353fedbe0>,\n",
       " <folium.vector_layers.CircleMarker at 0x7f43689b3550>,\n",
       " <folium.vector_layers.CircleMarker at 0x7f43689b3c88>,\n",
       " <folium.vector_layers.CircleMarker at 0x7f43689c30b8>,\n",
       " <folium.vector_layers.CircleMarker at 0x7f433a5d0908>,\n",
       " <folium.vector_layers.CircleMarker at 0x7f433a5d06d8>,\n",
       " <folium.vector_layers.CircleMarker at 0x7f433a5d0a58>,\n",
       " <folium.vector_layers.CircleMarker at 0x7f433a67c828>,\n",
       " <folium.vector_layers.CircleMarker at 0x7f433a473320>,\n",
       " <folium.vector_layers.CircleMarker at 0x7f433a4734a8>,\n",
       " <folium.vector_layers.CircleMarker at 0x7f43689a8470>,\n",
       " <folium.vector_layers.CircleMarker at 0x7f433a44a320>,\n",
       " <folium.vector_layers.CircleMarker at 0x7f433a685898>,\n",
       " <folium.vector_layers.CircleMarker at 0x7f433a685080>,\n",
       " <folium.vector_layers.CircleMarker at 0x7f433a5d0cf8>,\n",
       " <folium.vector_layers.CircleMarker at 0x7f4353fedba8>,\n",
       " <folium.vector_layers.CircleMarker at 0x7f4353fedc88>,\n",
       " <folium.vector_layers.CircleMarker at 0x7f433a487908>,\n",
       " <folium.vector_layers.CircleMarker at 0x7f433a487400>,\n",
       " <folium.vector_layers.CircleMarker at 0x7f433a4872e8>,\n",
       " <folium.vector_layers.CircleMarker at 0x7f433a4874a8>,\n",
       " <folium.vector_layers.CircleMarker at 0x7f433a4876d8>,\n",
       " <folium.vector_layers.CircleMarker at 0x7f433a4877f0>,\n",
       " <folium.vector_layers.CircleMarker at 0x7f437490a358>,\n",
       " <folium.vector_layers.CircleMarker at 0x7f43689ae3c8>,\n",
       " <folium.vector_layers.CircleMarker at 0x7f43749192b0>,\n",
       " <folium.vector_layers.CircleMarker at 0x7f433a473860>,\n",
       " <folium.vector_layers.CircleMarker at 0x7f4353fedf60>,\n",
       " <folium.vector_layers.CircleMarker at 0x7f433a5d0630>,\n",
       " <folium.vector_layers.CircleMarker at 0x7f43689b3128>,\n",
       " <folium.vector_layers.CircleMarker at 0x7f433a5d0b70>,\n",
       " <folium.vector_layers.CircleMarker at 0x7f43689c3400>,\n",
       " <folium.vector_layers.CircleMarker at 0x7f433a5d09b0>,\n",
       " <folium.vector_layers.CircleMarker at 0x7f433a4875f8>,\n",
       " <folium.vector_layers.CircleMarker at 0x7f433a4872b0>,\n",
       " <folium.vector_layers.CircleMarker at 0x7f433a487320>,\n",
       " <folium.vector_layers.CircleMarker at 0x7f433a487978>,\n",
       " <folium.vector_layers.CircleMarker at 0x7f433a487518>,\n",
       " <folium.vector_layers.CircleMarker at 0x7f433a4878d0>,\n",
       " <folium.vector_layers.CircleMarker at 0x7f433a487748>,\n",
       " <folium.vector_layers.CircleMarker at 0x7f433a487b00>,\n",
       " <folium.vector_layers.CircleMarker at 0x7f433a487ba8>,\n",
       " <folium.vector_layers.CircleMarker at 0x7f433a487c50>,\n",
       " <folium.vector_layers.CircleMarker at 0x7f433a487cf8>,\n",
       " <folium.vector_layers.CircleMarker at 0x7f43689b3518>,\n",
       " <folium.vector_layers.CircleMarker at 0x7f433a601898>,\n",
       " <folium.vector_layers.CircleMarker at 0x7f433a685358>,\n",
       " <folium.vector_layers.CircleMarker at 0x7f433a4731d0>,\n",
       " <folium.vector_layers.CircleMarker at 0x7f433a5d0320>,\n",
       " <folium.vector_layers.CircleMarker at 0x7f433a5d00f0>,\n",
       " <folium.vector_layers.CircleMarker at 0x7f4353fedc18>,\n",
       " <folium.vector_layers.CircleMarker at 0x7f433a487da0>,\n",
       " <folium.vector_layers.CircleMarker at 0x7f433a487c18>,\n",
       " <folium.vector_layers.CircleMarker at 0x7f433a487ac8>,\n",
       " <folium.vector_layers.CircleMarker at 0x7f433a487860>,\n",
       " <folium.vector_layers.CircleMarker at 0x7f433a487828>,\n",
       " <folium.vector_layers.CircleMarker at 0x7f433a487780>,\n",
       " <folium.vector_layers.CircleMarker at 0x7f433a4876a0>,\n",
       " <folium.vector_layers.CircleMarker at 0x7f433a487c88>,\n",
       " <folium.vector_layers.CircleMarker at 0x7f433a487eb8>,\n",
       " <folium.vector_layers.CircleMarker at 0x7f433a487ef0>,\n",
       " <folium.vector_layers.CircleMarker at 0x7f433a487f98>,\n",
       " <folium.vector_layers.CircleMarker at 0x7f433a487f28>,\n",
       " <folium.vector_layers.CircleMarker at 0x7f433a6380f0>,\n",
       " <folium.vector_layers.CircleMarker at 0x7f433a6381d0>,\n",
       " <folium.vector_layers.CircleMarker at 0x7f433a638278>,\n",
       " <folium.vector_layers.CircleMarker at 0x7f433a487b38>,\n",
       " <folium.vector_layers.CircleMarker at 0x7f433a4879b0>,\n",
       " <folium.vector_layers.CircleMarker at 0x7f433a487dd8>,\n",
       " <folium.vector_layers.CircleMarker at 0x7f433a4879e8>,\n",
       " <folium.vector_layers.CircleMarker at 0x7f433a487080>,\n",
       " <folium.vector_layers.CircleMarker at 0x7f433a473d68>,\n",
       " <folium.vector_layers.CircleMarker at 0x7f4353fedb38>,\n",
       " <folium.vector_layers.CircleMarker at 0x7f433a6858d0>,\n",
       " <folium.vector_layers.CircleMarker at 0x7f433a4b6b00>,\n",
       " <folium.vector_layers.CircleMarker at 0x7f433a487e10>,\n",
       " <folium.vector_layers.CircleMarker at 0x7f433a487a90>,\n",
       " <folium.vector_layers.CircleMarker at 0x7f433a5d03c8>,\n",
       " <folium.vector_layers.CircleMarker at 0x7f433a6380b8>,\n",
       " <folium.vector_layers.CircleMarker at 0x7f433a638128>,\n",
       " <folium.vector_layers.CircleMarker at 0x7f433a638208>,\n",
       " <folium.vector_layers.CircleMarker at 0x7f433a638438>,\n",
       " <folium.vector_layers.CircleMarker at 0x7f433a638470>,\n",
       " <folium.vector_layers.CircleMarker at 0x7f433a638518>,\n",
       " <folium.vector_layers.CircleMarker at 0x7f433a6385c0>,\n",
       " <folium.vector_layers.CircleMarker at 0x7f433a638668>,\n",
       " <folium.vector_layers.CircleMarker at 0x7f433a638710>,\n",
       " <folium.vector_layers.CircleMarker at 0x7f433a6387b8>,\n",
       " <folium.vector_layers.CircleMarker at 0x7f43689c3128>,\n",
       " <folium.vector_layers.CircleMarker at 0x7f4353fedef0>,\n",
       " <folium.vector_layers.CircleMarker at 0x7f433a5d0b38>,\n",
       " <folium.vector_layers.CircleMarker at 0x7f433a487cc0>,\n",
       " <folium.vector_layers.CircleMarker at 0x7f433a4871d0>]"
      ]
     },
     "execution_count": 136,
     "metadata": {},
     "output_type": "execute_result"
    }
   ],
   "source": [
    "trip_markers = markers_from_trips(parsed_trips)\n",
    "trip_markers"
   ]
  },
  {
   "cell_type": "code",
   "execution_count": 137,
   "metadata": {},
   "outputs": [
    {
     "data": {
      "text/plain": [
       "[{'trip_distance': 18.38,\n",
       "  'pickup_latitude': 40.64499,\n",
       "  'pickup_longitude': -73.78115},\n",
       " {'trip_distance': 1.3,\n",
       "  'pickup_latitude': 40.766931,\n",
       "  'pickup_longitude': -73.982098},\n",
       " {'trip_distance': 4.5,\n",
       "  'pickup_latitude': 40.77773,\n",
       "  'pickup_longitude': -73.951902},\n",
       " {'trip_distance': 2.4,\n",
       "  'pickup_latitude': 40.795678,\n",
       "  'pickup_longitude': -73.971049}]"
      ]
     },
     "execution_count": 137,
     "metadata": {},
     "output_type": "execute_result"
    }
   ],
   "source": [
    "parsed_trips[0:4]"
   ]
  },
  {
   "cell_type": "code",
   "execution_count": 139,
   "metadata": {},
   "outputs": [
    {
     "data": {
      "text/plain": [
       "[[40.64499, -73.78115],\n",
       " [40.766931, -73.982098],\n",
       " [40.77773, -73.951902],\n",
       " [40.795678, -73.971049]]"
      ]
     },
     "execution_count": 139,
     "metadata": {},
     "output_type": "execute_result"
    }
   ],
   "source": [
    "trip_markers and len(trip_markers) # 1000\n",
    "\n",
    "list(map(lambda marker: marker.location, trip_markers[0:4]))\n",
    "# [[40.64499, -73.78115],\n",
    "#  [40.766931, -73.982098],\n",
    "#  [40.77773, -73.951902],\n",
    "#  [40.795678, -73.971049]]"
   ]
  },
  {
   "cell_type": "markdown",
   "metadata": {},
   "source": [
    "Ok, now that we have a function that creates locations, and a function that creates markers, it is time to write a function to plot a map. \n",
    "\n",
    "Write a function called `map_from` that, provided the first argument of a list location and second argument an integer representing the `zoom_start`, returns a `folium` map the corresponding location and `zoom_start` attributes.\n",
    "\n",
    "> Hint: The following is how to write a map with folium:\n",
    "> ```python \n",
    "    folium.Map(location=location, zoom_start=zoom_amount)\n",
    "> ```"
   ]
  },
  {
   "cell_type": "code",
   "execution_count": 140,
   "metadata": {},
   "outputs": [],
   "source": [
    "def map_from(location, zoom_amount):\n",
    "    return folium.Map(location = location, zoom_start = zoom_amount)\n",
    "    pass"
   ]
  },
  {
   "cell_type": "code",
   "execution_count": 141,
   "metadata": {},
   "outputs": [
    {
     "data": {
      "text/plain": [
       "15"
      ]
     },
     "execution_count": 141,
     "metadata": {},
     "output_type": "execute_result"
    }
   ],
   "source": [
    "times_square_map = map_from([40.7589, -73.9851], 15)\n",
    "times_square_map and times_square_map.location # [40.7589, -73.9851]\n",
    "times_square_map and times_square_map.zoom_start # 15"
   ]
  },
  {
   "cell_type": "code",
   "execution_count": 142,
   "metadata": {
    "scrolled": true
   },
   "outputs": [
    {
     "data": {
      "text/html": [
       "<div style=\"width:100%;\"><div style=\"position:relative;width:100%;height:0;padding-bottom:60%;\"><iframe src=\"data:text/html;charset=utf-8;base64,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\" style=\"position:absolute;width:100%;height:100%;left:0;top:0;border:none !important;\" allowfullscreen webkitallowfullscreen mozallowfullscreen></iframe></div></div>"
      ],
      "text/plain": [
       "<folium.folium.Map at 0x7f433a6384a8>"
      ]
     },
     "execution_count": 142,
     "metadata": {},
     "output_type": "execute_result"
    }
   ],
   "source": [
    "times_square_marker and times_square_marker.add_to(times_square_map)\n",
    "times_square_map"
   ]
  },
  {
   "cell_type": "markdown",
   "metadata": {},
   "source": [
    "Now that we have a marker and a map, now let's write a function that adds a lot of markers to a map.  This function should add each marker in the list to the map object then return the updated map object."
   ]
  },
  {
   "cell_type": "code",
   "execution_count": 143,
   "metadata": {},
   "outputs": [],
   "source": [
    "manhattan_map = map_from([40.7589, -73.9851], 13)"
   ]
  },
  {
   "cell_type": "code",
   "execution_count": 149,
   "metadata": {},
   "outputs": [],
   "source": [
    "def add_markers(markers, map_obj):\n",
    "    map(lambda marker, map_obj: markermarker.addto(map_obj), markers)\n",
    "    return map_obj\n",
    "    pass"
   ]
  },
  {
   "cell_type": "code",
   "execution_count": 150,
   "metadata": {
    "scrolled": false
   },
   "outputs": [],
   "source": [
    "map_with_markers = add_markers(trip_markers, manhattan_map)"
   ]
  },
  {
   "cell_type": "code",
   "execution_count": 151,
   "metadata": {},
   "outputs": [
    {
     "data": {
      "text/html": [
       "<div style=\"width:100%;\"><div style=\"position:relative;width:100%;height:0;padding-bottom:60%;\"><iframe src=\"data:text/html;charset=utf-8;base64,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\" style=\"position:absolute;width:100%;height:100%;left:0;top:0;border:none !important;\" allowfullscreen webkitallowfullscreen mozallowfullscreen></iframe></div></div>"
      ],
      "text/plain": [
       "<folium.folium.Map at 0x7f433a41d2e8>"
      ]
     },
     "execution_count": 151,
     "metadata": {},
     "output_type": "execute_result"
    }
   ],
   "source": [
    "map_with_markers"
   ]
  },
  {
   "cell_type": "markdown",
   "metadata": {},
   "source": [
    "### Using Nearest Neighbors"
   ]
  },
  {
   "cell_type": "markdown",
   "metadata": {},
   "source": [
    "Ok, let's write a function that given a latitude and longitude will predict the distance for us.  We'll do this by first finding the nearest trips given a latitude and longitude. "
   ]
  },
  {
   "cell_type": "markdown",
   "metadata": {},
   "source": [
    "Here we once again apply the nearest neighbors formula. As a first step, write a function named `distance_location` that calculates the distance in pickup location between two trips."
   ]
  },
  {
   "cell_type": "code",
   "execution_count": null,
   "metadata": {},
   "outputs": [],
   "source": [
    "import math\n",
    "\n",
    "def distance_location(selected_trip, neighbor_trip):\n",
    "    pass"
   ]
  },
  {
   "cell_type": "code",
   "execution_count": null,
   "metadata": {},
   "outputs": [],
   "source": [
    "first_trip = {'pickup_latitude': 40.64499, 'pickup_longitude': -73.78115, 'trip_distance': 18.38}\n",
    "second_trip = {'pickup_latitude': 40.766931, 'pickup_longitude': -73.982098, 'trip_distance': 1.3}\n",
    "distance_first_and_second = distance_location(first_trip, second_trip)\n",
    "\n",
    "distance_first_and_second and round(distance_first_and_second, 3) # 0.235"
   ]
  },
  {
   "cell_type": "markdown",
   "metadata": {},
   "source": [
    "Ok, next write a function called `distance_between_neighbors` that adds a new key-value pair, called `distance_from_selected`, that calculates the distance of the `neighbor_trip` from the `selected_trip`."
   ]
  },
  {
   "cell_type": "code",
   "execution_count": null,
   "metadata": {},
   "outputs": [],
   "source": [
    "def distance_between_neighbors(selected_trip, neighbor_trip):\n",
    "    pass"
   ]
  },
  {
   "cell_type": "code",
   "execution_count": null,
   "metadata": {},
   "outputs": [],
   "source": [
    "distance_between_neighbors(first_trip, second_trip)\n",
    "\n",
    "# {'distance_from_selected': 0.23505256047318146,\n",
    "#  'pickup_latitude': 40.766931,\n",
    "#  'pickup_longitude': -73.982098,\n",
    "#  'trip_distance': 1.3}"
   ]
  },
  {
   "cell_type": "markdown",
   "metadata": {},
   "source": [
    "Ok, now our `neighbor_trip` has another attribute called `distance_from_selected`, that indicates the distance from the `neighbor_trip`'s pickup location from the `selected_trip`."
   ]
  },
  {
   "cell_type": "markdown",
   "metadata": {},
   "source": [
    "> ** Understand the data:** Our dictionary now has a few attributes, two of which say distance.  Let's make sure we understand the difference. \n",
    "> * **`distance_from_selected`:** This is our calculation of the distance of the neighbor's pickup location from the selected trip.\n",
    "> * **`trip_distance`:** This is the attribute we were provided initially.  It tells us the length of the neighbor's taxi trip from pickup to drop-off.  "
   ]
  },
  {
   "cell_type": "markdown",
   "metadata": {},
   "source": [
    "Next, write a function called `distance_all` that provided a list of neighbors, returns each of those neighbors with their respective `distance_from_selected` numbers."
   ]
  },
  {
   "cell_type": "code",
   "execution_count": null,
   "metadata": {},
   "outputs": [],
   "source": [
    "def distance_all(selected_individual, neighbors):\n",
    "    pass"
   ]
  },
  {
   "cell_type": "code",
   "execution_count": null,
   "metadata": {},
   "outputs": [],
   "source": [
    "cleaned_trips and distance_all(first_trip, cleaned_trips[0:4])"
   ]
  },
  {
   "cell_type": "markdown",
   "metadata": {},
   "source": [
    "Now write the nearest neighbors formula to calculate the distance of the `selected_trip` from all of the `cleaned_trips` in our dataset.  If no number is provided, it should return the top 3 neighbors."
   ]
  },
  {
   "cell_type": "code",
   "execution_count": null,
   "metadata": {},
   "outputs": [],
   "source": [
    "def nearest_neighbors(selected_trip, trips, number = 3):\n",
    "    pass"
   ]
  },
  {
   "cell_type": "code",
   "execution_count": null,
   "metadata": {},
   "outputs": [],
   "source": [
    "new_trip = {'pickup_latitude': 40.64499,\n",
    "'pickup_longitude': -73.78115,\n",
    "'trip_distance': 18.38}\n",
    "\n",
    "nearest_three_neighbors = nearest_neighbors(new_trip, cleaned_trips or [], number = 3)\n",
    "nearest_three_neighbors\n",
    "# [{'distance_from_selected': 0.0004569288784918792,\n",
    "#   'pickup_latitude': 40.64483,\n",
    "#   'pickup_longitude': -73.781578,\n",
    "#   'trip_distance': 7.78},\n",
    "#  {'distance_from_selected': 0.0011292165425673159,\n",
    "#   'pickup_latitude': 40.644657,\n",
    "#   'pickup_longitude': -73.782229,\n",
    "#   'trip_distance': 12.7},\n",
    "#  {'distance_from_selected': 0.0042359798158141185,\n",
    "#   'pickup_latitude': 40.648509,\n",
    "#   'pickup_longitude': -73.783508,\n",
    "#   'trip_distance': 17.3}]"
   ]
  },
  {
   "cell_type": "markdown",
   "metadata": {},
   "source": [
    "Ok great! Now that we can provide a new trip location, and find the distances of the three nearest trips, we can take  calculate an estimate of the trip distance for that new trip location.  \n",
    "\n",
    "We do so simply by calculating the average of it's nearest neighbors."
   ]
  },
  {
   "cell_type": "code",
   "execution_count": null,
   "metadata": {},
   "outputs": [],
   "source": [
    "import statistics\n",
    "def mean_distance(neighbors):\n",
    "    nearest_distances = list(map(lambda neighbor: neighbor['trip_distance'], neighbors))\n",
    "    return round(statistics.mean(nearest_distances), 3)\n",
    "\n",
    "nearest_three_neighbors = nearest_neighbors(new_trip, cleaned_trips or [], number = 3)\n",
    "distance_estimate_of_selected_trip = mean_distance(nearest_three_neighbors) # 12.593\n",
    "distance_estimate_of_selected_trip"
   ]
  },
  {
   "cell_type": "markdown",
   "metadata": {},
   "source": [
    "### Choosing the correct number of neighbors"
   ]
  },
  {
   "cell_type": "markdown",
   "metadata": {},
   "source": [
    "Now, as we know from the last lesson, one tricky element is to determine how many neighbors to choose, our $k$ value,  before calculating the average.  We want to choose our value of $k$ such that it properly matches actual data, and so that it applies to new data.  There are fancy formulas to ensure that we **train** our algorithm so that our formula is optimized for all data, but here let's see different $k$ values manually.  This is the gist of choosing our $k$ value:\n",
    "\n",
    "* If we choose a $k$ value too low, our formula will be too heavily influenced by a single neighbor, whereas if our $k$ value is too high, we will be choosing so many neighbors that our nearest neighbors formula will not be adjust enough according to locations.\n",
    "\n",
    "Ok, let's experiment with this."
   ]
  },
  {
   "cell_type": "markdown",
   "metadata": {},
   "source": [
    "First, let's choose a midtown location, to see what the trip distance would be.  A Google search reveals the coordinates of 51st and 7th avenue to be the following."
   ]
  },
  {
   "cell_type": "code",
   "execution_count": null,
   "metadata": {},
   "outputs": [],
   "source": [
    "midtown_trip = dict(pickup_latitude=40.761710, pickup_longitude=-73.982760)"
   ]
  },
  {
   "cell_type": "code",
   "execution_count": null,
   "metadata": {},
   "outputs": [],
   "source": [
    "seven_closest = nearest_neighbors(midtown_trip, cleaned_trips, number = 7)\n",
    "seven_closest\n",
    "# [{'trip_distance': 0.58,\n",
    "#   'pickup_latitude': 40.761372,\n",
    "#   'pickup_longitude': -73.982602,\n",
    "#   'distance_from_selected': 0.00037310588309379025},\n",
    "#  {'trip_distance': 0.8,\n",
    "#   'pickup_latitude': 40.762444,\n",
    "#   'pickup_longitude': -73.98244,\n",
    "#   'distance_from_selected': 0.00080072217404248},\n",
    "#  {'trip_distance': 1.4,\n",
    "#   'pickup_latitude': 40.762767,\n",
    "#   'pickup_longitude': -73.982293,\n",
    "#   'distance_from_selected': 0.0011555682584735844},\n",
    "#  {'trip_distance': 8.3,\n",
    "#   'pickup_latitude': 40.762868,\n",
    "#   'pickup_longitude': -73.983233,\n",
    "#   'distance_from_selected': 0.0012508768924205918},\n",
    "#  {'trip_distance': 1.26,\n",
    "#   'pickup_latitude': 40.760057,\n",
    "#   'pickup_longitude': -73.983502,\n",
    "#   'distance_from_selected': 0.0018118976240381972},\n",
    "#  {'trip_distance': 0.0,\n",
    "#   'pickup_latitude': 40.760644,\n",
    "#   'pickup_longitude': -73.984531,\n",
    "#   'distance_from_selected': 0.002067074502774709},\n",
    "#  {'trip_distance': 1.72,\n",
    "#   'pickup_latitude': 40.762107,\n",
    "#   'pickup_longitude': -73.98479,\n",
    "#   'distance_from_selected': 0.0020684557041472677}]"
   ]
  },
  {
   "cell_type": "markdown",
   "metadata": {},
   "source": [
    "Looking at the `distance_from_selected` it appears that our our trips are still fairly close to our selected trip.  Notice that most of the data is within a distance of .002 away, so going to the top 7 nearest neighbors didn't seem to give us neighbors too far from each other, which is a good sign.\n",
    "\n",
    "Still, it's hard to know what distance in latitude and longitude really look like, so let's map the data. "
   ]
  },
  {
   "cell_type": "code",
   "execution_count": null,
   "metadata": {},
   "outputs": [],
   "source": [
    "midtown_location = location(midtown_trip) # [40.76171, -73.98276]\n",
    "midtown_map = map_from(midtown_location, 16)\n",
    "closest_markers = markers_from_trips(seven_closest)\n",
    "\n",
    "add_markers(closest_markers, midtown_map)"
   ]
  },
  {
   "cell_type": "markdown",
   "metadata": {},
   "source": [
    "Ok.  These locations stay fairly close to our estimated location of 51st street and 7th Avenue.  So they could be a good estimate of a trip distance."
   ]
  },
  {
   "cell_type": "code",
   "execution_count": null,
   "metadata": {},
   "outputs": [],
   "source": [
    "mean_distance(seven_closest) # 2.009"
   ]
  },
  {
   "cell_type": "markdown",
   "metadata": {},
   "source": [
    "Ok, now let's try a different location"
   ]
  },
  {
   "cell_type": "code",
   "execution_count": null,
   "metadata": {},
   "outputs": [],
   "source": [
    "charging_bull_closest = nearest_neighbors({'pickup_latitude': 40.7049, 'pickup_longitude': -74.0137}, cleaned_trips, number = 12)"
   ]
  },
  {
   "cell_type": "code",
   "execution_count": null,
   "metadata": {
    "scrolled": true
   },
   "outputs": [],
   "source": [
    "mean_distance(charging_bull_closest) # 3.145"
   ]
  },
  {
   "cell_type": "markdown",
   "metadata": {},
   "source": [
    "Ok, so there appears to be a significant difference between choosing a location near Times Square versus choosing a location at Wall Street."
   ]
  },
  {
   "cell_type": "markdown",
   "metadata": {},
   "source": [
    "### Summary"
   ]
  },
  {
   "cell_type": "markdown",
   "metadata": {},
   "source": [
    "In this lab, we used the nearest neighbors function to predict the length of a taxi ride.  To do so, we selected a location, then found a number of taxi rides closest to that location, and finally took the average trip lengths of the nearest taxi rides to find an estimate of the new ride's trip length.  You can see that even with just a little bit of math and programming we can begin to make meaningful predictions with data."
   ]
  }
 ],
 "metadata": {
  "kernelspec": {
   "display_name": "Python 3",
   "language": "python",
   "name": "python3"
  },
  "language_info": {
   "codemirror_mode": {
    "name": "ipython",
    "version": 3
   },
   "file_extension": ".py",
   "mimetype": "text/x-python",
   "name": "python",
   "nbconvert_exporter": "python",
   "pygments_lexer": "ipython3",
   "version": "3.6.6"
  }
 },
 "nbformat": 4,
 "nbformat_minor": 2
}
